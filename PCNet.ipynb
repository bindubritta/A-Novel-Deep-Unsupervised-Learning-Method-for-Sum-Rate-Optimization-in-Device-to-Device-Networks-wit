{
  "nbformat": 4,
  "nbformat_minor": 0,
  "metadata": {
    "colab": {
      "provenance": []
    },
    "kernelspec": {
      "name": "python3",
      "display_name": "Python 3"
    },
    "language_info": {
      "name": "python"
    },
    "gpuClass": "standard"
  },
  "cells": [
    {
      "cell_type": "markdown",
      "source": [
        "**Model 1: PCNet (P_hat from H)**"
      ],
      "metadata": {
        "id": "dp0eV7rtKFFR"
      }
    },
    {
      "cell_type": "markdown",
      "source": [
        "Sum Rate Maximization Under QoS Constraints (SRM-QC)"
      ],
      "metadata": {
        "id": "iNmMBv-eMy7N"
      }
    },
    {
      "cell_type": "code",
      "source": [
        "## Reference\n",
        "# F. Liang, C. Shen, W. Yu, and F. Wu, “Towards optimal power control via\n",
        "# ensembling deep neural networks,” IEEE Transactions on Communications, vol. 68,\n",
        "# no. 3, pp. 1760–1776, 2020, doi: https://doi.org/10.1109/TCOMM.2019.2957482."
      ],
      "metadata": {
        "id": "4Dp-WDKoKX8n"
      },
      "execution_count": 65,
      "outputs": []
    },
    {
      "cell_type": "code",
      "execution_count": 66,
      "metadata": {
        "id": "gRtCp3ocJoI_"
      },
      "outputs": [],
      "source": [
        "# K = 5   # Number of transmitter-receiver pairs"
      ]
    },
    {
      "cell_type": "code",
      "source": [
        "# import numpy as np\n",
        "\n",
        "# ## Function to generate an array of float values within a given range\n",
        "# def generate_f_val(f_val_min, f_val_max, f_count):\n",
        "#   f_val = []\n",
        "#   for i in range(f_count):\n",
        "#     f_val_temp = round(np.random.uniform(f_val_min, f_val_max),3)\n",
        "#     f_val.append(f_val_temp)\n",
        "#   return f_val"
      ],
      "metadata": {
        "id": "Jy4DE9U5KAJ7"
      },
      "execution_count": 67,
      "outputs": []
    },
    {
      "cell_type": "code",
      "source": [
        "# ## Variances for noise signals\n",
        "# # https://www.youtube.com/watch?v=OA4viERrlzA&list=PLTv48TzNRhaKz0C-dCAwimXSypV_5UTxg\n",
        "# # From 6:44 to 0:55\n",
        "# # Power Spectral Density of Noise, N0 = 1e-14.4 W/Hz at room temperature\n",
        "# # If Bandwidth, B = 10 MHz\n",
        "# # Then the Noise Power or Noise Variance = N0 X B = 1e-7.4 W \n",
        "\n",
        "# # sigma_sqr_noise = generate_f_val(1.1e-2, 1.9e-2, K)\n",
        "# sigma_sqr_noise = generate_f_val(1, 1, K)\n",
        "# print(sigma_sqr_noise)"
      ],
      "metadata": {
        "id": "y1jnpIExLjOd"
      },
      "execution_count": 68,
      "outputs": []
    },
    {
      "cell_type": "code",
      "source": [
        "# ## Minimum rate for the achievable SINR of multiple concurrent transmissions\n",
        "# # SINR_P_min = generate_f_val(0.301, 0.305, K)\n",
        "# SINR_P_min = generate_f_val(0.5, 0.5, K)\n",
        "# print(SINR_P_min)"
      ],
      "metadata": {
        "id": "35LhA4LtMSvL"
      },
      "execution_count": 69,
      "outputs": []
    },
    {
      "cell_type": "code",
      "source": [
        "# ## Replacing SINR with SINR = 0 for some receiver(s)\n",
        "# indx_zero = np.array([3, 4])\n",
        "# for i in range(len(indx_zero)):\n",
        "#   SINR_P_min[indx_zero[i]] = 0\n",
        "# print(SINR_P_min)"
      ],
      "metadata": {
        "id": "VVczFdhQOavC"
      },
      "execution_count": 70,
      "outputs": []
    },
    {
      "cell_type": "code",
      "source": [
        "# ## Maximum power allowed for transmission\n",
        "\n",
        "# ## https://www.fcc.gov/general/radio-frequency-safety-0#:~:text=The%20SAR%20is%20a%20value,(1.6%20W%2Fkg).\n",
        "# ## Cellular Telephone Specific Absorption Rate (SAR)\n",
        "# # The SAR is a value that corresponds to the relative amount of RF energy \n",
        "# # absorbed in the head of a user of a wireless handset. The FCC limit for public\n",
        "# # exposure from cellular telephones is an SAR level of 1.6 watts per kilogram.\n",
        "\n",
        "# ## https://www.wilsonamplifiers.com/blog/how-to-read-cell-phone-signal-strength-the-right-way/\n",
        "# ## What’s a Good Signal Strength for a Cell Phone?\n",
        "# # -50 to -79 dBm: considered a great signal\n",
        "# # -80 to -89 dBm: Considered good signal\n",
        "# # -90 to -99 dBm: Considered average signal\n",
        "# # -100 to -109 dBm: Considered poor signal\n",
        "# # -110 to -120 dBm: Considered very poor signal\n",
        "\n",
        "# ## https://www.rapidtables.com/convert/power/dBm_to_Watt.html \n",
        "# # -50 dBm = 1e-8 watt\n",
        "# # decibel of mW (dBm) = 10 log10(Signal Power / 1 mW)\n",
        "\n",
        "# ## https://www.youtube.com/watch?v=OA4viERrlzA&list=PLTv48TzNRhaKz0C-dCAwimXSypV_5UTxg\n",
        "# # From 0:28 to 0:55\n",
        "# # Transmit power may start at 1 mW for Bluetooth\n",
        "# # 10 mW to 100 mW for mobile phones (Pmax = 100 MW, quite typical)\n",
        "# # BTS can use up to 40 W\n",
        "\n",
        "# # p_max = 1.0"
      ],
      "metadata": {
        "id": "98Zj0oBbOmux"
      },
      "execution_count": 71,
      "outputs": []
    },
    {
      "cell_type": "code",
      "source": [
        "import numpy as np\n",
        "\n",
        "## Number of transmitter-receiver pairs\n",
        "K = 5\n",
        "\n",
        "## Variances for noise signals\n",
        "sigma_sqr_noise = np.array([0.0, 0.0, 0.0, 0.0, 0.0], dtype = float)\n",
        "# sigma_sqr_noise = np.array([1e-5, 1e-5, 1e-5, 1e-5, 1e-5], dtype = float)\n",
        "# sigma_sqr_noise = np.array([0.1, 0.1, 0.1, 0.1, 0.1], dtype = float)\n",
        "# sigma_sqr_noise = np.array([0.01, 0.01, 0.01, 0.01, 0.01], dtype = float)\n",
        "# sigma_sqr_noise = np.array([0.001, 0.001, 0.001, 0.001, 0.001], dtype = float)\n",
        "\n",
        "## Minimum rate for the achievable SINR of multiple concurrent transmissions\n",
        "SINR_P_min = np.array([0.5, 0.5, 0.5, 0, 0], dtype = float)\n",
        "\n",
        "## Maximum transmit power\n",
        "p_max = 1.0"
      ],
      "metadata": {
        "id": "s7p8E3GvOucd"
      },
      "execution_count": 72,
      "outputs": []
    },
    {
      "cell_type": "code",
      "source": [
        "# ## Function to generate the Circularly Symmetric Complex Gaussian (CSCG) distributions\n",
        "# def complex_gaussian(d_mean = 0, d_var = 1, n = 1000):\n",
        "#   # https://stackoverflow.com/questions/55700338/how-to-generate-a-complex-gaussian-white-noise-signal-in-pythonor-numpy-scipy\n",
        "#   # https://dsp.stackexchange.com/questions/40320/confusion-regarding-pdf-of-circularly-symmetric-complex-gaussian-rv\n",
        "#   # https://www.researchgate.net/post/When_is_Circular-symmetric_complex_Gaussian_channel_a_good_model\n",
        "#   # https://www.researchgate.net/post/How_can_I_generate_circularly_symmetric_complex_gaussian_CSCG_noise\n",
        "\n",
        "#   # Draw random samples from a normal (Gaussian) distribution.\n",
        "#   # Parameters:\n",
        "#   #   loc = Mean (“centre”) of the distribution.\n",
        "#   #   scale = Standard deviation (spread or “width”) of the distribution. Must be non-negative.\n",
        "#   #   size = int or tuple of ints, optional\n",
        "#   return np.random.normal(loc = d_mean, scale = np.sqrt(2*d_var)/2, size = (n, 2)).view(np.complex128)\n",
        "\n",
        "\n",
        "# ## Function to generate the channel-coefficient matrix H\n",
        "# def generate_H(K, sigma_sqr_h, sample_size):\n",
        "#   hij = []\n",
        "#   for i in range(K):  # Total rows, i.e., total receivers or users\n",
        "#     hj =[]\n",
        "#     for j in range(K):  # Total columns, i.e., total transmitters\n",
        "#       h = complex_gaussian(d_mean = 0, d_var = sigma_sqr_h, n = sample_size)\n",
        "#       hj.append(h)\n",
        "#     hj = np.concatenate(hj, 1)\n",
        "#     hij.append(hj)\n",
        "#   hij = np.stack(hij, 1)\n",
        "#   return hij"
      ],
      "metadata": {
        "id": "1foJysB3PDQk"
      },
      "execution_count": 73,
      "outputs": []
    },
    {
      "cell_type": "code",
      "source": [
        "# ## Create matrix H\n",
        "# H_size = int(1e6)\n",
        "# sigma_sqr_h = 1\n",
        "# H = generate_H(K, sigma_sqr_h, H_size)\n",
        "# print(H.shape)\n",
        "# # print(H)"
      ],
      "metadata": {
        "id": "LO7SKhE2PK8c"
      },
      "execution_count": 74,
      "outputs": []
    },
    {
      "cell_type": "code",
      "source": [
        "import numba as nb\n",
        "\n",
        "## Function to compute the square of the absolute value of an array of complex numbers\n",
        "# https://stackoverflow.com/questions/30437947/most-memory-efficient-way-to-compute-abs2-of-complex-numpy-ndarray\n",
        "# https://stackoverflow.com/questions/37197341/why-is-numba-throwing-an-error-regarding-numpy-methods-when-nopython-true\n",
        "@nb.vectorize([nb.float64(nb.complex128),nb.float32(nb.complex64)])\n",
        "def cmplx_abs_sqr(cmplx_var):\n",
        "  return cmplx_var.real**2 + cmplx_var.imag**2"
      ],
      "metadata": {
        "id": "Fx9vomtzPuQR"
      },
      "execution_count": 75,
      "outputs": []
    },
    {
      "cell_type": "code",
      "source": [
        "# ## Function to generate the matrix B\n",
        "# def generate_B(H_size, K, SINR_P_min, H):\n",
        "#   Bij_list = []\n",
        "#   H_abs_sqr = cmplx_abs_sqr(H)\n",
        "#   for k in range(H_size):\n",
        "#     for i in range(K):  # Total rows\n",
        "#       Bj_list =[]\n",
        "#       for j in range(K):  # Total columns\n",
        "#         if i==j:\n",
        "#           B = 0\n",
        "#         else:\n",
        "#           B_temp = np.multiply(SINR_P_min[i], H_abs_sqr[k,i,j])\n",
        "#           B = np.divide(B_temp, H_abs_sqr[k,i,i])\n",
        "#         Bj_list.append(B)\n",
        "#       Bij_list.append(Bj_list)\n",
        "#   Bij_array = np.array(Bij_list)\n",
        "#   Bij = Bij_array.reshape((H_size, K, K)) # H_size X row X column\n",
        "#   return Bij"
      ],
      "metadata": {
        "id": "_ElQ83STP_jJ"
      },
      "execution_count": 76,
      "outputs": []
    },
    {
      "cell_type": "code",
      "source": [
        "# ## Create matrix B\n",
        "# B = generate_B(H_size, K, SINR_P_min, H)\n",
        "# print(B.shape)\n",
        "# # print(B)"
      ],
      "metadata": {
        "id": "Do8TBnmOQGfm"
      },
      "execution_count": 77,
      "outputs": []
    },
    {
      "cell_type": "code",
      "source": [
        "# ## Function to generate the vector u\n",
        "# def generate_u(H_size, K, SINR_P_min, sigma_sqr_noise, H):\n",
        "#   ui_list = []\n",
        "#   H_abs_sqr = cmplx_abs_sqr(H)\n",
        "#   for k in range(H_size):\n",
        "#     for i in range(K):  # Total rows, i.e., total transmitters\n",
        "#       u_temp = np.multiply(SINR_P_min[i], sigma_sqr_noise[i])\n",
        "#       u = np.divide(u_temp, H_abs_sqr[k,i,i])\n",
        "#       ui_list.append(u)      \n",
        "#   ui_array = np.array(ui_list)\n",
        "#   ui = ui_array.reshape((H_size, K, 1)) # H_size X row X column\n",
        "#   return ui"
      ],
      "metadata": {
        "id": "0NoA9KeKQL55"
      },
      "execution_count": 78,
      "outputs": []
    },
    {
      "cell_type": "code",
      "source": [
        "# ## Create vector u\n",
        "# u = generate_u(H_size, K, SINR_P_min, sigma_sqr_noise, H)\n",
        "# print(u.shape)\n",
        "# # print(u)"
      ],
      "metadata": {
        "id": "7HYHFUL9Q2jw"
      },
      "execution_count": 79,
      "outputs": []
    },
    {
      "cell_type": "code",
      "source": [
        "# ## Finding indexes of H matrix with the hij set that satisfy constraint on the \n",
        "# ## maximum transmit power p_max\n",
        "\n",
        "# count_var = 0\n",
        "# indx_F_H = []\n",
        "# indx_temp_F_H = []\n",
        "# p_hat_temp_list = []\n",
        "\n",
        "# for k in range(H_size):\n",
        "#   eigen_value, eigen_vector = np.linalg.eig(B[k])\n",
        "#   # print(eigen_value)  \n",
        "#   if max(abs(eigen_value)) < 1:\n",
        "#     subtr = np.identity(K) - B[k,:,:]\n",
        "#     invr = np.linalg.inv(subtr)    \n",
        "#     u_temp = u[k]\n",
        "#     p_temp = np.matmul(invr, u_temp)\n",
        "#     p_hat_temp_list.append(p_temp)\n",
        "#     indx_temp_F_H.append(k)\n",
        "#     count_var += 1\n",
        "\n",
        "# p_hat_temp_array = np.array(p_hat_temp_list)\n",
        "# p_hat_temp = p_hat_temp_array.reshape((count_var,K,1))\n",
        "# print(p_hat_temp.shape)\n",
        "# # print(p_hat_temp)\n",
        "\n",
        "\n",
        "# P = abs(p_hat_temp)\n",
        "# fcount = 0\n",
        "# p_hat_list = []\n",
        "# for n in range(count_var):\n",
        "#   P_max = np.amax(P[n])\n",
        "#   if P_max <= p_max:\n",
        "#     p = p_hat_temp[n]\n",
        "#     p_hat_list.append(p)\n",
        "#     indx_F_H.append(indx_temp_F_H[n])\n",
        "#     fcount += 1\n",
        "\n",
        "# p_hat_array = np.array(p_hat_list)\n",
        "# p_hat = p_hat_array.reshape((fcount,K,1))\n",
        "# # p_hat = p_hat_array.reshape((fcount,1,K))\n",
        "# print(p_hat.shape)\n",
        "# p_hat_size = p_hat.shape[0]\n",
        "# # print(p_hat)"
      ],
      "metadata": {
        "id": "85S5kiODQ9uz"
      },
      "execution_count": 80,
      "outputs": []
    },
    {
      "cell_type": "code",
      "source": [
        "# ## H matrix for a feasible power profile\n",
        "# F_H_size = len(indx_F_H)\n",
        "# F_H = np.empty((F_H_size, K, K), dtype = complex, order = 'C')\n",
        "\n",
        "# for i in range(F_H_size):\n",
        "#   j = indx_F_H[i]\n",
        "#   F_H[i] = H[j]\n",
        "\n",
        "# print(F_H.shape)\n",
        "# # print(F_H)"
      ],
      "metadata": {
        "id": "b5RhyblNRGAa"
      },
      "execution_count": 81,
      "outputs": []
    },
    {
      "cell_type": "code",
      "source": [
        "# ## Checking SINR_P for feasible H matrix\n",
        "# F_H_abs_sqr = cmplx_abs_sqr(F_H)\n",
        "\n",
        "# for k in range(F_H_size):\n",
        "#   SINR_P_F_H_list = []\n",
        "#   for i in range(K):\n",
        "#     ph = 0\n",
        "#     for j in range(K):\n",
        "#       ph_j = np.multiply(p_hat[k,j], F_H_abs_sqr[k,i,j])\n",
        "#       ph = ph + ph_j\n",
        "    \n",
        "#     numr = np.multiply(p_hat[k,i], F_H_abs_sqr[k,i,i])\n",
        "#     dnumr = sigma_sqr_noise[i] + ph - numr\n",
        "#     SINR_P_temp = np.divide(numr, dnumr)\n",
        "#     SINR_P_F_H_list.append(SINR_P_temp)\n",
        "  \n",
        "#   SINR_P_F_H_array = np.array(SINR_P_F_H_list)\n",
        "#   SINR_P_F_H = SINR_P_F_H_array.reshape((1, K))\n",
        "#   print(SINR_P_F_H)\n",
        "#   p_hat_t = p_hat[k].reshape((1, 1, K)) # H_size X row X column\n",
        "#   print(p_hat_t)"
      ],
      "metadata": {
        "id": "wuFQwfbVRONV"
      },
      "execution_count": 82,
      "outputs": []
    },
    {
      "cell_type": "code",
      "source": [
        "# ## Saving 3D Numpy array to CSV file\n",
        "# # Saving feasible H matrix F_H\n",
        "# from numpy import savetxt\n",
        "\n",
        "# # Reshaping the array from 3D to 2D\n",
        "# F_H_2D = F_H.reshape(F_H.shape[0], -1)\n",
        "\n",
        "# # Saving reshaped array to file in \"Files\" of colab at left bar\n",
        "# # Can download the file in local drive\n",
        "# savetxt('F_H_2D.csv', F_H_2D, delimiter=',')"
      ],
      "metadata": {
        "id": "lTIUaGB3oLVq"
      },
      "execution_count": 83,
      "outputs": []
    },
    {
      "cell_type": "code",
      "source": [
        "# ## Saving p_hat matrix to CSV file\n",
        "# # from numpy import savetxt\n",
        "\n",
        "# # Reshaping the array from 3D to 2D\n",
        "# p_hat_2D = p_hat.reshape(p_hat.shape[0], -1)\n",
        "\n",
        "# # Saving reshaped array to file in \"Files\" of colab at left bar\n",
        "# # Can download the file in local drive\n",
        "# savetxt('p_hat_2D.csv', p_hat_2D, delimiter=',')"
      ],
      "metadata": {
        "id": "IXCPGky_oQGE"
      },
      "execution_count": 84,
      "outputs": []
    },
    {
      "cell_type": "code",
      "source": [
        "## Loading a NumPy array from a CSV file\n",
        "# https://neptune.ai/blog/google-colab-dealing-with-files\n",
        "# https://colab.research.google.com/drive/1TSF749i9-hoZv3n_8znjuf8Ei5o6YqL8\n",
        "# Loading F_H array from a CSV file\n",
        "from numpy import loadtxt\n",
        "\n",
        "## Reading an array from the file\n",
        "# If we want to read a file from our local drive, we have to first upload it to Collab's session storage.\n",
        "F_H_2D_L = np.loadtxt('F_H_2D.csv', delimiter = ',', dtype = str)\n",
        "\n",
        "## Reshaping the array from 2D to 3D\n",
        "# The initial declaration can be used to calculate the value of K\n",
        "# To get K from the CSV file:\n",
        "# K = int(np.sqrt(F_H_2D_L.shape[1]))\n",
        "F_H_3D = F_H_2D_L.reshape(F_H_2D_L.shape[0], F_H_2D_L.shape[1] // K, K)\n",
        "F_H_3D_size = F_H_3D.shape[0]"
      ],
      "metadata": {
        "id": "6wSz2ELCoUAz"
      },
      "execution_count": 85,
      "outputs": []
    },
    {
      "cell_type": "code",
      "source": [
        "## Converting string data to complex data and removing the initial whitespace\n",
        "F_H_list = []\n",
        "for k in range(F_H_3D_size):\n",
        "  for i in range(K):  # Total rows\n",
        "    for j in range(K):  # Total columns\n",
        "      F_H_temp = complex(F_H_3D[k][i][j].strip())\n",
        "      F_H_list.append(F_H_temp)\n",
        "F_H_array = np.array(F_H_list)\n",
        "F_H = F_H_array.reshape((F_H_3D_size, K, K)) # H_size X row X column_count\n",
        "print(F_H.shape)\n",
        "F_H_size = F_H.shape[0]\n",
        "# print(F_H)"
      ],
      "metadata": {
        "id": "GBpEySUjofeO",
        "colab": {
          "base_uri": "https://localhost:8080/"
        },
        "outputId": "1241d730-9e29-4869-a420-4fe529526cfe"
      },
      "execution_count": 86,
      "outputs": [
        {
          "output_type": "stream",
          "name": "stdout",
          "text": [
            "(257495, 5, 5)\n"
          ]
        }
      ]
    },
    {
      "cell_type": "code",
      "source": [
        "# ## Loading p_hat array from a CSV file\n",
        "# # from numpy import loadtxt\n",
        "\n",
        "# ## Reading an array from the file\n",
        "# # If we want to read a file from our local drive, we have to first upload it to Collab's session storage.\n",
        "# p_hat_2D_L = np.loadtxt('p_hat_2D.csv', delimiter = ',', dtype = float)\n",
        "\n",
        "# ## Reshaping the array from 2D to 3D\n",
        "# # The initial declaration can be used to calculate the value of K\n",
        "# # To get K from the CSV file:\n",
        "# # K = int(np.sqrt(F_H_2D_L.shape[1]))\n",
        "# p_hat = p_hat_2D_L.reshape((p_hat_2D_L.shape[0], p_hat_2D_L.shape[1], 1)) # H_size X row X column\n",
        "# p_hat_size = p_hat.shape[0]\n",
        "# print(p_hat.shape)"
      ],
      "metadata": {
        "id": "zVwJfkONol5-"
      },
      "execution_count": 87,
      "outputs": []
    },
    {
      "cell_type": "code",
      "source": [
        "## Function to split datasets for training, validation, and testing.\n",
        "def split(np_array):\n",
        "  # data_size = np_array.shape[0]\n",
        "  # train_data_size = int(data_size * 0.8)\n",
        "  # valid_data_size = int(data_size * 0.1)\n",
        "  # test_data_size = int(data_size * 0.1)\n",
        "\n",
        "  train_data_size = int(206000)\n",
        "  valid_data_size = int(25000)\n",
        "  test_data_size = int(25000)\n",
        "\n",
        "  train_e_indx = train_data_size\n",
        "  valid_e_indx = train_e_indx + valid_data_size\n",
        "  test_e_indx = valid_e_indx + test_data_size - 2\n",
        "  # test_e_indx = valid_e_indx + test_data_size\n",
        "  test_data_size_n = test_e_indx - valid_e_indx\n",
        "\n",
        "  row_count = np_array.shape[1]\n",
        "  column_count = np_array.shape[2]\n",
        "\n",
        "  train_data = np.empty((train_data_size, row_count, column_count), dtype = complex, order = 'C')\n",
        "  valid_data = np.empty((valid_data_size, row_count, column_count), dtype = complex, order = 'C')\n",
        "  test_data = np.empty((test_data_size_n, row_count, column_count), dtype = complex, order = 'C')\n",
        "\n",
        "  for i in range(train_e_indx):\n",
        "    train_data[i] = np_array[i]\n",
        "  \n",
        "  xv = 0\n",
        "  for j in range(train_e_indx, valid_e_indx):\n",
        "    valid_data[xv] = np_array[j]\n",
        "    xv = xv + 1\n",
        "  \n",
        "  xt = 0\n",
        "  for k in range(valid_e_indx, test_e_indx):\n",
        "    test_data[xt] = np_array[k]\n",
        "    xt = xt + 1\n",
        "  \n",
        "  # print(train_data.shape, valid_data.shape, test_data.shape)\n",
        "\n",
        "  \n",
        "  ## Training input will be the absolute value\n",
        "  train_input = np.absolute(train_data)\n",
        "  valid_input = np.absolute(valid_data)\n",
        "  test_input = np.absolute(test_data)\n",
        "\n",
        "  print(train_input.shape, valid_input.shape, test_input.shape)\n",
        "\n",
        "  return [train_input, valid_input, test_input, test_data]"
      ],
      "metadata": {
        "id": "_sRYFgyasz-g"
      },
      "execution_count": 88,
      "outputs": []
    },
    {
      "cell_type": "code",
      "source": [
        "## Split F_H Matrix\n",
        "F_H_S = split(F_H)\n",
        "train_input_F_H = F_H_S[0]\n",
        "valid_input_F_H = F_H_S[1]\n",
        "test_input_F_H = F_H_S[2]\n",
        "test_data_F_H = F_H_S[3]"
      ],
      "metadata": {
        "colab": {
          "base_uri": "https://localhost:8080/"
        },
        "id": "82SQ9k2Es62S",
        "outputId": "ed1310af-39d0-4d39-9735-8367593c8618"
      },
      "execution_count": 89,
      "outputs": [
        {
          "output_type": "stream",
          "name": "stdout",
          "text": [
            "(206000, 5, 5) (25000, 5, 5) (24998, 5, 5)\n"
          ]
        }
      ]
    },
    {
      "cell_type": "code",
      "source": [
        "# ## Split p_hat Matrix\n",
        "# p_hat_S = split(p_hat)\n",
        "# train_input_p_hat = p_hat_S[0]\n",
        "# valid_input_p_hat = p_hat_S[1]\n",
        "# test_input_p_hat = p_hat_S[2]\n",
        "# test_data_p_hat = p_hat_S[3]"
      ],
      "metadata": {
        "id": "kr0HEhRps-iM"
      },
      "execution_count": 90,
      "outputs": []
    },
    {
      "cell_type": "code",
      "source": [
        "## Define the DNN model - The Sequential model\n",
        "import tensorflow as tf\n",
        "from tensorflow import keras\n",
        "## from tensorflow.keras import layers # shows warning\n",
        "from keras.api._v2.keras import layers\n",
        "\n",
        "model = keras.Sequential(name = \"sequential_model\")\n",
        "\n",
        "model.add(keras.Input(shape = (K,K), name = \"hij_inputs\"))\n",
        "model.add(layers.Flatten(name = \"flatten_layer_hij\"))\n",
        "\n",
        "model.add(layers.Dense(units = 2*K*K, activation = 'relu', input_shape = (K*K,), name = \"dense_layer_1\"))\n",
        "model.add(layers.BatchNormalization())\n",
        "\n",
        "model.add(layers.Dense(units = K*K, activation = 'relu', input_shape = (2*K*K,), name = \"dense_layer_2\"))\n",
        "model.add(layers.BatchNormalization())\n",
        "\n",
        "model.add(layers.Dense(units = K, activation = 'sigmoid', input_shape = (K*K,), name = \"P_hat\"))\n",
        "\n",
        "model.summary()"
      ],
      "metadata": {
        "colab": {
          "base_uri": "https://localhost:8080/"
        },
        "id": "sKd9OWCctGhG",
        "outputId": "0fe95a95-abee-48df-b06c-850dfa4a2085"
      },
      "execution_count": 91,
      "outputs": [
        {
          "output_type": "stream",
          "name": "stdout",
          "text": [
            "Model: \"sequential_model\"\n",
            "_________________________________________________________________\n",
            " Layer (type)                Output Shape              Param #   \n",
            "=================================================================\n",
            " flatten_layer_hij (Flatten)  (None, 25)               0         \n",
            "                                                                 \n",
            " dense_layer_1 (Dense)       (None, 50)                1300      \n",
            "                                                                 \n",
            " batch_normalization_4 (Batc  (None, 50)               200       \n",
            " hNormalization)                                                 \n",
            "                                                                 \n",
            " dense_layer_2 (Dense)       (None, 25)                1275      \n",
            "                                                                 \n",
            " batch_normalization_5 (Batc  (None, 25)               100       \n",
            " hNormalization)                                                 \n",
            "                                                                 \n",
            " P_hat (Dense)               (None, 5)                 130       \n",
            "                                                                 \n",
            "=================================================================\n",
            "Total params: 3,005\n",
            "Trainable params: 2,855\n",
            "Non-trainable params: 150\n",
            "_________________________________________________________________\n"
          ]
        }
      ]
    },
    {
      "cell_type": "code",
      "source": [
        "# # https://stackoverflow.com/questions/41711190/keras-how-to-get-the-output-of-each-layer\n",
        "# # from tensorflow.keras import backend as bk\n",
        "# from keras.api._v2.keras import backend\n",
        "\n",
        "# print(model.inputs)\n",
        "# print(model.outputs)\n",
        "# model.layers[3].output"
      ],
      "metadata": {
        "id": "Z9HJFd4CxP6O"
      },
      "execution_count": 92,
      "outputs": []
    },
    {
      "cell_type": "code",
      "source": [
        "## Plot the model as a graph\n",
        "keras.utils.plot_model(model, \"Sequential_Model.png\")"
      ],
      "metadata": {
        "colab": {
          "base_uri": "https://localhost:8080/",
          "height": 661
        },
        "id": "FOA7BGUlti-M",
        "outputId": "f996ac1c-8cea-43ca-d646-670c490f4719"
      },
      "execution_count": 93,
      "outputs": [
        {
          "output_type": "execute_result",
          "data": {
            "image/png": "[encoded data removed]",
            "text/plain": [
              "<IPython.core.display.Image object>"
            ]
          },
          "metadata": {},
          "execution_count": 93
        }
      ]
    },
    {
      "cell_type": "code",
      "source": [
        "## Display the input and output shapes of each layer\n",
        "keras.utils.plot_model(model, \"Sequential_Model_with_shape_info.png\", show_shapes=True)"
      ],
      "metadata": {
        "colab": {
          "base_uri": "https://localhost:8080/",
          "height": 754
        },
        "id": "vWcXGiwttoGC",
        "outputId": "7700e346-7840-44c3-fe2f-988f44c7e787"
      },
      "execution_count": 94,
      "outputs": [
        {
          "output_type": "execute_result",
          "data": {
            "image/png": "[encoded data removed]",
            "text/plain": [
              "<IPython.core.display.Image object>"
            ]
          },
          "metadata": {},
          "execution_count": 94
        }
      ]
    },
    {
      "cell_type": "code",
      "source": [
        "## Convert sigma_sqr_noise from numpy array to tensor\n",
        "sigma_sqr_noise_t = tf.convert_to_tensor(sigma_sqr_noise, dtype = float)\n",
        "tf.print(sigma_sqr_noise_t)"
      ],
      "metadata": {
        "colab": {
          "base_uri": "https://localhost:8080/"
        },
        "id": "9EepXpjhASWI",
        "outputId": "d382b654-2860-4aa4-f3d0-e48f54a97635"
      },
      "execution_count": 95,
      "outputs": [
        {
          "output_type": "stream",
          "name": "stdout",
          "text": [
            "[0 0 0 0 0]\n"
          ]
        }
      ]
    },
    {
      "cell_type": "code",
      "source": [
        "# ## The customized loss function\n",
        "# def custom_loss(y_true, y_pred):\n",
        "#   p = tf.math.multiply(p_max, y_pred)\n",
        "#   hij = tf.reshape(y_true[:,0:K*K], (-1,K,K))\n",
        "#   hij_abs_sqr = tf.math.square(tf.math.abs(hij))\n",
        "\n",
        "#   R_P = 0.0\n",
        "#   for i in range(K):  # Total rows\n",
        "#     ph = 0.0\n",
        "#     for j in range(K):  # Total columns\n",
        "#       ph_j = tf.math.multiply(p[:,j], hij_abs_sqr[:,i,j])\n",
        "#       ph = tf.math.add(ph, ph_j)\n",
        "    \n",
        "#     numr = tf.math.multiply(p[:,i], hij_abs_sqr[:,i,i])\n",
        "#     dnumr = tf.math.add(sigma_sqr_noise_t[i], tf.math.subtract(ph, numr))\n",
        "#     SINR_i = tf.math.divide(numr, dnumr)\n",
        "#     R_P = tf.math.add(R_P, (tf.math.log(1 + SINR_i)/tf.math.log(2.0)))\n",
        "  \n",
        "#   loss = -R_P\n",
        "#   loss = tf.reduce_mean(loss) # batch mean\n",
        "#   return loss"
      ],
      "metadata": {
        "id": "F1StgeBetsF-"
      },
      "execution_count": 96,
      "outputs": []
    },
    {
      "cell_type": "code",
      "source": [
        "## Convert SINR_P_min from numpy array to tensor\n",
        "SINR_P_min_t = tf.convert_to_tensor(SINR_P_min, dtype = float)\n",
        "tf.print(SINR_P_min_t)"
      ],
      "metadata": {
        "colab": {
          "base_uri": "https://localhost:8080/"
        },
        "id": "e62igGZlH2be",
        "outputId": "8d704693-f842-42b6-81bc-f1fb081ae721"
      },
      "execution_count": 97,
      "outputs": [
        {
          "output_type": "stream",
          "name": "stdout",
          "text": [
            "[0.5 0.5 0.5 0 0]\n"
          ]
        }
      ]
    },
    {
      "cell_type": "code",
      "source": [
        "## The customized loss function that penalizes the constraint violation\n",
        "def custom_loss(y_true, y_pred):\n",
        "  p = tf.math.multiply(p_max, y_pred)\n",
        "  hij = tf.reshape(y_true[:,0:K*K], (-1,K,K))\n",
        "  hij_abs_sqr = tf.math.square(tf.math.abs(hij))\n",
        "\n",
        "  lambda_l = 10.0\n",
        "  R_P = 0.0\n",
        "  pnlty_f_CV = 0.0\n",
        "\n",
        "  for i in range(K):  # Total rows\n",
        "    ph = 0.0\n",
        "    for j in range(K):  # Total columns\n",
        "      ph_j = tf.math.multiply(p[:,j], hij_abs_sqr[:,i,j])\n",
        "      ph = tf.math.add(ph, ph_j)\n",
        "    \n",
        "    numr = tf.math.multiply(p[:,i], hij_abs_sqr[:,i,i])\n",
        "    dnumr = tf.math.add(sigma_sqr_noise_t[i], tf.math.subtract(ph, numr))\n",
        "    SINR_i = tf.math.divide(numr, dnumr)\n",
        "    R_P = tf.math.add(R_P, (tf.math.log(1 + SINR_i)/tf.math.log(2.0)))\n",
        "    pnlty_f_CV = tf.math.add(pnlty_f_CV, (tf.math.log(1 + tf.nn.relu(SINR_P_min_t[i] - SINR_i))/tf.math.log(2.0)))\n",
        "  \n",
        "  loss = tf.math.add(-R_P, tf.math.multiply(lambda_l, pnlty_f_CV))\n",
        "  loss = tf.reduce_mean(loss) # batch mean\n",
        "  return loss"
      ],
      "metadata": {
        "id": "uueHZcGyty_0"
      },
      "execution_count": 98,
      "outputs": []
    },
    {
      "cell_type": "code",
      "source": [
        "## Build and compile the DNN model\n",
        "## Training and Testing\n",
        "## https://stats.stackexchange.com/questions/153531/what-is-batch-size-in-neural-network\n",
        "import matplotlib.pyplot as plt\n",
        "\n",
        "optA = tf.keras.optimizers.Adam(learning_rate = 0.0001)\n",
        "model.compile(optimizer = optA, loss = custom_loss)\n",
        "\n",
        "history = model.fit(train_input_F_H, train_input_F_H, epochs = 100, validation_data = (valid_input_F_H, valid_input_F_H), batch_size = 1000)\n",
        "\n",
        "plt.plot(history.epoch, history.history['loss'], color = \"blue\", label = \"Training\")\n",
        "plt.plot(history.epoch, history.history['val_loss'], color=\"black\", label = \"Validation\")\n",
        "plt.xlabel(\"epochs\")\n",
        "plt.ylabel(\"loss\")\n",
        "plt.legend()\n",
        "plt.show()"
      ],
      "metadata": {
        "colab": {
          "base_uri": "https://localhost:8080/",
          "height": 1000
        },
        "id": "VFP_5h2wt3ri",
        "outputId": "23df8f43-b159-4886-f617-4d28f29394d5"
      },
      "execution_count": 99,
      "outputs": [
        {
          "output_type": "stream",
          "name": "stdout",
          "text": [
            "Epoch 1/100\n",
            "206/206 [==============================] - 5s 10ms/step - loss: 3.5808 - val_loss: 3.1075\n",
            "Epoch 2/100\n",
            "206/206 [==============================] - 2s 8ms/step - loss: 2.5426 - val_loss: 2.2048\n",
            "Epoch 3/100\n",
            "206/206 [==============================] - 2s 7ms/step - loss: 1.5098 - val_loss: 0.8685\n",
            "Epoch 4/100\n",
            "206/206 [==============================] - 2s 8ms/step - loss: 0.5560 - val_loss: -0.1912\n",
            "Epoch 5/100\n",
            "206/206 [==============================] - 4s 19ms/step - loss: -0.2570 - val_loss: -0.9507\n",
            "Epoch 6/100\n",
            "206/206 [==============================] - 2s 8ms/step - loss: -0.8710 - val_loss: -1.4291\n",
            "Epoch 7/100\n",
            "206/206 [==============================] - 2s 8ms/step - loss: -1.3109 - val_loss: -1.7247\n",
            "Epoch 8/100\n",
            "206/206 [==============================] - 2s 8ms/step - loss: -1.6289 - val_loss: -1.9299\n",
            "Epoch 9/100\n",
            "206/206 [==============================] - 1s 7ms/step - loss: -1.8707 - val_loss: -2.0590\n",
            "Epoch 10/100\n",
            "206/206 [==============================] - 2s 8ms/step - loss: -2.0652 - val_loss: -2.2176\n",
            "Epoch 11/100\n",
            "206/206 [==============================] - 1s 7ms/step - loss: -2.2280 - val_loss: -2.3498\n",
            "Epoch 12/100\n",
            "206/206 [==============================] - 2s 9ms/step - loss: -2.3680 - val_loss: -2.4599\n",
            "Epoch 13/100\n",
            "206/206 [==============================] - 2s 11ms/step - loss: -2.4886 - val_loss: -2.5552\n",
            "Epoch 14/100\n",
            "206/206 [==============================] - 1s 7ms/step - loss: -2.5907 - val_loss: -2.6468\n",
            "Epoch 15/100\n",
            "206/206 [==============================] - 1s 7ms/step - loss: -2.6771 - val_loss: -2.7116\n",
            "Epoch 16/100\n",
            "206/206 [==============================] - 1s 7ms/step - loss: -2.7502 - val_loss: -2.7964\n",
            "Epoch 17/100\n",
            "206/206 [==============================] - 1s 7ms/step - loss: -2.8123 - val_loss: -2.8451\n",
            "Epoch 18/100\n",
            "206/206 [==============================] - 1s 7ms/step - loss: -2.8638 - val_loss: -2.9133\n",
            "Epoch 19/100\n",
            "206/206 [==============================] - 2s 7ms/step - loss: -2.9102 - val_loss: -2.9410\n",
            "Epoch 20/100\n",
            "206/206 [==============================] - 2s 8ms/step - loss: -2.9516 - val_loss: -2.9871\n",
            "Epoch 21/100\n",
            "206/206 [==============================] - 2s 11ms/step - loss: -2.9864 - val_loss: -3.0140\n",
            "Epoch 22/100\n",
            "206/206 [==============================] - 2s 7ms/step - loss: -3.0172 - val_loss: -3.0338\n",
            "Epoch 23/100\n",
            "206/206 [==============================] - 1s 7ms/step - loss: -3.0424 - val_loss: -3.0668\n",
            "Epoch 24/100\n",
            "206/206 [==============================] - 1s 7ms/step - loss: -3.0662 - val_loss: -3.0862\n",
            "Epoch 25/100\n",
            "206/206 [==============================] - 1s 7ms/step - loss: -3.0859 - val_loss: -3.1069\n",
            "Epoch 26/100\n",
            "206/206 [==============================] - 1s 7ms/step - loss: -3.1039 - val_loss: -3.1200\n",
            "Epoch 27/100\n",
            "206/206 [==============================] - 2s 7ms/step - loss: -3.1205 - val_loss: -3.1312\n",
            "Epoch 28/100\n",
            "206/206 [==============================] - 1s 7ms/step - loss: -3.1366 - val_loss: -3.1487\n",
            "Epoch 29/100\n",
            "206/206 [==============================] - 2s 10ms/step - loss: -3.1514 - val_loss: -3.1644\n",
            "Epoch 30/100\n",
            "206/206 [==============================] - 2s 9ms/step - loss: -3.1647 - val_loss: -3.1777\n",
            "Epoch 31/100\n",
            "206/206 [==============================] - 1s 7ms/step - loss: -3.1780 - val_loss: -3.1881\n",
            "Epoch 32/100\n",
            "206/206 [==============================] - 2s 8ms/step - loss: -3.1886 - val_loss: -3.1963\n",
            "Epoch 33/100\n",
            "206/206 [==============================] - 2s 7ms/step - loss: -3.1978 - val_loss: -3.2081\n",
            "Epoch 34/100\n",
            "206/206 [==============================] - 2s 8ms/step - loss: -3.2069 - val_loss: -3.2167\n",
            "Epoch 35/100\n",
            "206/206 [==============================] - 2s 8ms/step - loss: -3.2143 - val_loss: -3.2242\n",
            "Epoch 36/100\n",
            "206/206 [==============================] - 2s 8ms/step - loss: -3.2224 - val_loss: -3.2322\n",
            "Epoch 37/100\n",
            "206/206 [==============================] - 2s 11ms/step - loss: -3.2281 - val_loss: -3.2353\n",
            "Epoch 38/100\n",
            "206/206 [==============================] - 2s 9ms/step - loss: -3.2340 - val_loss: -3.2432\n",
            "Epoch 39/100\n",
            "206/206 [==============================] - 2s 8ms/step - loss: -3.2403 - val_loss: -3.2495\n",
            "Epoch 40/100\n",
            "206/206 [==============================] - 2s 8ms/step - loss: -3.2450 - val_loss: -3.2551\n",
            "Epoch 41/100\n",
            "206/206 [==============================] - 2s 8ms/step - loss: -3.2504 - val_loss: -3.2585\n",
            "Epoch 42/100\n",
            "206/206 [==============================] - 2s 7ms/step - loss: -3.2548 - val_loss: -3.2647\n",
            "Epoch 43/100\n",
            "206/206 [==============================] - 1s 7ms/step - loss: -3.2591 - val_loss: -3.2688\n",
            "Epoch 44/100\n",
            "206/206 [==============================] - 2s 8ms/step - loss: -3.2626 - val_loss: -3.2723\n",
            "Epoch 45/100\n",
            "206/206 [==============================] - 2s 11ms/step - loss: -3.2673 - val_loss: -3.2768\n",
            "Epoch 46/100\n",
            "206/206 [==============================] - 2s 8ms/step - loss: -3.2702 - val_loss: -3.2813\n",
            "Epoch 47/100\n",
            "206/206 [==============================] - 1s 7ms/step - loss: -3.2746 - val_loss: -3.2846\n",
            "Epoch 48/100\n",
            "206/206 [==============================] - 2s 8ms/step - loss: -3.2790 - val_loss: -3.2877\n",
            "Epoch 49/100\n",
            "206/206 [==============================] - 2s 8ms/step - loss: -3.2830 - val_loss: -3.2924\n",
            "Epoch 50/100\n",
            "206/206 [==============================] - 2s 8ms/step - loss: -3.2865 - val_loss: -3.2958\n",
            "Epoch 51/100\n",
            "206/206 [==============================] - 2s 8ms/step - loss: -3.2904 - val_loss: -3.2996\n",
            "Epoch 52/100\n",
            "206/206 [==============================] - 2s 9ms/step - loss: -3.2948 - val_loss: -3.3037\n",
            "Epoch 53/100\n",
            "206/206 [==============================] - 2s 11ms/step - loss: -3.2989 - val_loss: -3.3040\n",
            "Epoch 54/100\n",
            "206/206 [==============================] - 2s 8ms/step - loss: -3.3021 - val_loss: -3.3106\n",
            "Epoch 55/100\n",
            "206/206 [==============================] - 2s 8ms/step - loss: -3.3069 - val_loss: -3.3145\n",
            "Epoch 56/100\n",
            "206/206 [==============================] - 2s 7ms/step - loss: -3.3103 - val_loss: -3.3170\n",
            "Epoch 57/100\n",
            "206/206 [==============================] - 2s 8ms/step - loss: -3.3149 - val_loss: -3.3222\n",
            "Epoch 58/100\n",
            "206/206 [==============================] - 2s 8ms/step - loss: -3.3186 - val_loss: -3.3282\n",
            "Epoch 59/100\n",
            "206/206 [==============================] - 1s 7ms/step - loss: -3.3233 - val_loss: -3.3305\n",
            "Epoch 60/100\n",
            "206/206 [==============================] - 2s 10ms/step - loss: -3.3262 - val_loss: -3.3330\n",
            "Epoch 61/100\n",
            "206/206 [==============================] - 2s 9ms/step - loss: -3.3282 - val_loss: -3.3376\n",
            "Epoch 62/100\n",
            "206/206 [==============================] - 2s 8ms/step - loss: -3.3317 - val_loss: -3.3408\n",
            "Epoch 63/100\n",
            "206/206 [==============================] - 2s 8ms/step - loss: -3.3349 - val_loss: -3.3428\n",
            "Epoch 64/100\n",
            "206/206 [==============================] - 2s 8ms/step - loss: -3.3374 - val_loss: -3.3466\n",
            "Epoch 65/100\n",
            "206/206 [==============================] - 2s 8ms/step - loss: -3.3406 - val_loss: -3.3473\n",
            "Epoch 66/100\n",
            "206/206 [==============================] - 2s 8ms/step - loss: -3.3427 - val_loss: -3.3504\n",
            "Epoch 67/100\n",
            "206/206 [==============================] - 2s 8ms/step - loss: -3.3449 - val_loss: -3.3528\n",
            "Epoch 68/100\n",
            "206/206 [==============================] - 2s 12ms/step - loss: -3.3467 - val_loss: -3.3549\n",
            "Epoch 69/100\n",
            "206/206 [==============================] - 2s 8ms/step - loss: -3.3494 - val_loss: -3.3566\n",
            "Epoch 70/100\n",
            "206/206 [==============================] - 2s 8ms/step - loss: -3.3510 - val_loss: -3.3586\n",
            "Epoch 71/100\n",
            "206/206 [==============================] - 2s 7ms/step - loss: -3.3540 - val_loss: -3.3610\n",
            "Epoch 72/100\n",
            "206/206 [==============================] - 1s 7ms/step - loss: -3.3554 - val_loss: -3.3633\n",
            "Epoch 73/100\n",
            "206/206 [==============================] - 2s 7ms/step - loss: -3.3573 - val_loss: -3.3649\n",
            "Epoch 74/100\n",
            "206/206 [==============================] - 2s 7ms/step - loss: -3.3593 - val_loss: -3.3672\n",
            "Epoch 75/100\n",
            "206/206 [==============================] - 2s 9ms/step - loss: -3.3615 - val_loss: -3.3689\n",
            "Epoch 76/100\n",
            "206/206 [==============================] - 2s 10ms/step - loss: -3.3628 - val_loss: -3.3711\n",
            "Epoch 77/100\n",
            "206/206 [==============================] - 2s 7ms/step - loss: -3.3653 - val_loss: -3.3717\n",
            "Epoch 78/100\n",
            "206/206 [==============================] - 2s 7ms/step - loss: -3.3666 - val_loss: -3.3741\n",
            "Epoch 79/100\n",
            "206/206 [==============================] - 2s 8ms/step - loss: -3.3682 - val_loss: -3.3765\n",
            "Epoch 80/100\n",
            "206/206 [==============================] - 2s 8ms/step - loss: -3.3706 - val_loss: -3.3774\n",
            "Epoch 81/100\n",
            "206/206 [==============================] - 2s 7ms/step - loss: -3.3730 - val_loss: -3.3812\n",
            "Epoch 82/100\n",
            "206/206 [==============================] - 2s 7ms/step - loss: -3.3742 - val_loss: -3.3835\n",
            "Epoch 83/100\n",
            "206/206 [==============================] - 2s 10ms/step - loss: -3.3759 - val_loss: -3.3847\n",
            "Epoch 84/100\n",
            "206/206 [==============================] - 2s 10ms/step - loss: -3.3775 - val_loss: -3.3863\n",
            "Epoch 85/100\n",
            "206/206 [==============================] - 2s 7ms/step - loss: -3.3796 - val_loss: -3.3884\n",
            "Epoch 86/100\n",
            "206/206 [==============================] - 2s 8ms/step - loss: -3.3807 - val_loss: -3.3906\n",
            "Epoch 87/100\n",
            "206/206 [==============================] - 1s 7ms/step - loss: -3.3829 - val_loss: -3.3927\n",
            "Epoch 88/100\n",
            "206/206 [==============================] - 2s 7ms/step - loss: -3.3846 - val_loss: -3.3941\n",
            "Epoch 89/100\n",
            "206/206 [==============================] - 2s 8ms/step - loss: -3.3861 - val_loss: -3.3957\n",
            "Epoch 90/100\n",
            "206/206 [==============================] - 1s 7ms/step - loss: -3.3879 - val_loss: -3.3966\n",
            "Epoch 91/100\n",
            "206/206 [==============================] - 2s 9ms/step - loss: -3.3888 - val_loss: -3.3990\n",
            "Epoch 92/100\n",
            "206/206 [==============================] - 2s 10ms/step - loss: -3.3892 - val_loss: -3.3998\n",
            "Epoch 93/100\n",
            "206/206 [==============================] - 2s 7ms/step - loss: -3.3915 - val_loss: -3.3984\n",
            "Epoch 94/100\n",
            "206/206 [==============================] - 1s 7ms/step - loss: -3.3930 - val_loss: -3.4021\n",
            "Epoch 95/100\n",
            "206/206 [==============================] - 1s 7ms/step - loss: -3.3929 - val_loss: -3.4040\n",
            "Epoch 96/100\n",
            "206/206 [==============================] - 1s 7ms/step - loss: -3.3953 - val_loss: -3.4046\n",
            "Epoch 97/100\n",
            "206/206 [==============================] - 1s 7ms/step - loss: -3.3966 - val_loss: -3.4064\n",
            "Epoch 98/100\n",
            "206/206 [==============================] - 2s 8ms/step - loss: -3.3974 - val_loss: -3.4052\n",
            "Epoch 99/100\n",
            "206/206 [==============================] - 2s 9ms/step - loss: -3.3988 - val_loss: -3.4084\n",
            "Epoch 100/100\n",
            "206/206 [==============================] - 2s 10ms/step - loss: -3.3998 - val_loss: -3.4092\n"
          ]
        },
        {
          "output_type": "display_data",
          "data": {
            "text/plain": [
              "<Figure size 432x288 with 1 Axes>"
            ],
            "image/png": "[encoded data removed]"
          },
          "metadata": {
            "needs_background": "light"
          }
        }
      ]
    },
    {
      "cell_type": "code",
      "source": [
        "## Constraint violation probability and\n",
        "## finding indexes of test_input_F_H matrix with the hij set that do not satisfy\n",
        "## constraint on the minimum SINR_P_min rate but satisfy the maximum transmit\n",
        "## power p_max\n",
        "\n",
        "output_P_hat_temp = p_max * model.predict(test_input_F_H)\n",
        "output_P_hat = output_P_hat_temp.reshape((output_P_hat_temp.shape[0], output_P_hat_temp.shape[1], 1)) # test_input_F_H_size X row X column\n",
        "output_P_hat_size = output_P_hat.shape[0]\n",
        "test_data_F_H_abs_sqr = cmplx_abs_sqr(test_data_F_H)\n",
        "\n",
        "indx_n = []\n",
        "count_v = 0\n",
        "\n",
        "for k in range(output_P_hat_size):\n",
        "  for i in range(K):  # Total rows\n",
        "    ph = 0\n",
        "    for j in range(K):  # Total columns\n",
        "      ph_j = np.multiply(output_P_hat[k,j], test_data_F_H_abs_sqr[k,i,j])\n",
        "      ph = ph + ph_j\n",
        "    \n",
        "    numr = np.multiply(output_P_hat[k,i], test_data_F_H_abs_sqr[k,i,i])\n",
        "    dnumr = sigma_sqr_noise[i] + ph - numr\n",
        "    SINR_out = np.divide(numr, dnumr)\n",
        "    if np.round(SINR_out, decimals = 3) < SINR_P_min[i]:\n",
        "      indx_n.append(k)\n",
        "      count_v = count_v + 1\n",
        "      # print(SINR_out)\n",
        "      break\n",
        "\n",
        "violation_prb = (count_v / output_P_hat_size) * 100\n",
        "print(\"Constraints Violation Probability: {:.2f}%\".format(violation_prb))\n",
        "# print(len(indx_n))\n",
        "# print(indx_n)"
      ],
      "metadata": {
        "colab": {
          "base_uri": "https://localhost:8080/"
        },
        "id": "TppB89ypt7gC",
        "outputId": "41db6113-75ed-4e1e-c431-151f60192611"
      },
      "execution_count": 100,
      "outputs": [
        {
          "output_type": "stream",
          "name": "stdout",
          "text": [
            "782/782 [==============================] - 2s 2ms/step\n",
            "Constraints Violation Probability: 15.46%\n"
          ]
        }
      ]
    },
    {
      "cell_type": "code",
      "source": [
        "## Finding indexes of test_input_F_H matrix that satisfy constraints on both the \n",
        "## minimum SINR_P_min rate and the maximum transmit power Pmax\n",
        "i = 0\n",
        "indx_q = []\n",
        "\n",
        "for k in range(output_P_hat_size):\n",
        "  if k == indx_n[i]:\n",
        "    i = i +1\n",
        "    if  i == len(indx_n):\n",
        "      i = i - 1\n",
        "  else:\n",
        "    indx_q.append(k)\n",
        "\n",
        "print(len(indx_q))\n",
        "# print(indx_q)"
      ],
      "metadata": {
        "colab": {
          "base_uri": "https://localhost:8080/"
        },
        "id": "2WE_UJofHvoy",
        "outputId": "8ea379f9-1ccf-4268-c030-d86e79dd7417"
      },
      "execution_count": 101,
      "outputs": [
        {
          "output_type": "stream",
          "name": "stdout",
          "text": [
            "21134\n"
          ]
        }
      ]
    },
    {
      "cell_type": "code",
      "source": [
        "## H of test_input_F_H matrix that satisfy both constraint on the minimum\n",
        "## SINR_P_min rate and p_max\n",
        "Q_H_size = len(indx_q)\n",
        "Q_H = np.empty((Q_H_size, K, K), dtype = complex, order = 'C')\n",
        "\n",
        "for i in range(Q_H_size):\n",
        "  j = indx_q[i]\n",
        "  Q_H[i] = test_input_F_H[j]\n",
        "\n",
        "print(Q_H.shape)\n",
        "# print(Q_H)"
      ],
      "metadata": {
        "id": "8FRpS_AEFBZO",
        "colab": {
          "base_uri": "https://localhost:8080/"
        },
        "outputId": "ab02757a-c7f1-47d0-f34d-3a81a2393306"
      },
      "execution_count": 102,
      "outputs": [
        {
          "output_type": "stream",
          "name": "stdout",
          "text": [
            "(21134, 5, 5)\n"
          ]
        }
      ]
    },
    {
      "cell_type": "code",
      "source": [
        "##  P_Hat of output_P_hat matrix that satisfy both constraint on the minimum\n",
        "## SINR_P_min rate and p_max\n",
        "Q_P_Hat = np.empty((Q_H_size, K, 1), dtype = float, order = 'C')\n",
        "\n",
        "for i in range(Q_H_size):\n",
        "  j = indx_q[i]\n",
        "  Q_P_Hat[i] = output_P_hat[j]\n",
        "\n",
        "print(Q_P_Hat.shape)\n",
        "# print(Q_P_Hat)"
      ],
      "metadata": {
        "id": "R0cEtLFFGKhj",
        "colab": {
          "base_uri": "https://localhost:8080/"
        },
        "outputId": "24839503-ae78-43c4-81d6-8b20570bcc74"
      },
      "execution_count": 103,
      "outputs": [
        {
          "output_type": "stream",
          "name": "stdout",
          "text": [
            "(21134, 5, 1)\n"
          ]
        }
      ]
    },
    {
      "cell_type": "code",
      "source": [
        "## Function to calculate the average sum rate\n",
        "# Here, p_model is the output of DNN, and it is a 2D array.\n",
        "import math\n",
        "\n",
        "def average_sum_rate(hij, p_model, sigma_sqr_noise, K):\n",
        "  R = 0\n",
        "  hij_size = hij.shape[0]\n",
        "  hij_abs_sqr = cmplx_abs_sqr(hij)\n",
        "\n",
        "  for k in range(hij_size):\n",
        "    for i in range(K):  # Total rows\n",
        "      phn = 0\n",
        "      for j in range(K):  # Total columns\n",
        "        phn_j = np.multiply(p_model[k,j], hij_abs_sqr[k,i,j])\n",
        "        phn = phn + phn_j\n",
        "      \n",
        "      numr_s = np.multiply(p_model[k,i], hij_abs_sqr[k,i,i])\n",
        "      dnumr_s = sigma_sqr_noise[i] + phn - numr_s\n",
        "      R_temp = math.log2(1 + np.divide(numr_s, dnumr_s))\n",
        "      R = R + R_temp\n",
        "  \n",
        "  return (R/hij_size)"
      ],
      "metadata": {
        "id": "Sj6wlXCWuAgS"
      },
      "execution_count": 104,
      "outputs": []
    },
    {
      "cell_type": "code",
      "source": [
        "## DNN Sum Rate for test_data_F_H\n",
        "sumrate_F_H = average_sum_rate(test_data_F_H, output_P_hat, sigma_sqr_noise, K)\n",
        "print(\"Average Sum Rate for all H matrices: {:.2f} Bit/Second/Hertz\".format(sumrate_F_H))"
      ],
      "metadata": {
        "colab": {
          "base_uri": "https://localhost:8080/"
        },
        "id": "uRAZY_RBuCI-",
        "outputId": "8860007c-e703-40e4-dbb7-9d6b7f8d73ef"
      },
      "execution_count": 105,
      "outputs": [
        {
          "output_type": "stream",
          "name": "stdout",
          "text": [
            "Average Sum Rate for all H matrices: 3.51 Bit/Second/Hertz\n"
          ]
        }
      ]
    },
    {
      "cell_type": "code",
      "source": [
        "## DNN Sum Rate for only Q_H\n",
        "sumrate_Q_H = average_sum_rate(Q_H, Q_P_Hat, sigma_sqr_noise, K)\n",
        "print(\"Average Sum Rate for desired H matrices only: {:.2f} Bit/Second/Hertz\".format(sumrate_Q_H))"
      ],
      "metadata": {
        "id": "twk0rHkcIfj0",
        "colab": {
          "base_uri": "https://localhost:8080/"
        },
        "outputId": "a9230ca8-e319-4337-c052-61eecd7cfff0"
      },
      "execution_count": 106,
      "outputs": [
        {
          "output_type": "stream",
          "name": "stdout",
          "text": [
            "Average Sum Rate for desired H matrices only: 3.54 Bit/Second/Hertz\n"
          ]
        }
      ]
    }
  ]
}