{
  "nbformat": 4,
  "nbformat_minor": 0,
  "metadata": {
    "colab": {
      "provenance": []
    },
    "kernelspec": {
      "name": "python3",
      "display_name": "Python 3"
    },
    "language_info": {
      "name": "python"
    }
  },
  "cells": [
    {
      "cell_type": "markdown",
      "source": [
        "**1. Generation of Feasible Datasets for the Transmission Channel Parameters**"
      ],
      "metadata": {
        "id": "kQ9eRFMNDbWT"
      }
    },
    {
      "cell_type": "code",
      "execution_count": null,
      "metadata": {
        "id": "BD_rPtLNDYxn"
      },
      "outputs": [],
      "source": [
        "import numpy as np\n",
        "\n",
        "## Number of transmitter-receiver pairs\n",
        "K = 5\n",
        "\n",
        "## Variances for noise signals\n",
        "sigma_sqr_noise = np.array([1e-0, 1e-0, 1e-0, 1e-0, 1e-0], dtype = float)\n",
        "\n",
        "## Minimum rate for the achievable SINR of multiple concurrent transmissions\n",
        "SINR_P_min = np.array([0.5, 0.5, 0.5, 0.5, 0.5], dtype = float)\n",
        "\n",
        "## Maximum transmit power\n",
        "p_max = 1.0"
      ]
    },
    {
      "cell_type": "code",
      "source": [
        "## Function to generate the Circularly Symmetric Complex Gaussian (CSCG) distributions\n",
        "\n",
        "def complex_gaussian(d_mean = 0, d_var = 1, n = 1000):\n",
        "  # Draw random samples from a normal (Gaussian) distribution.\n",
        "  # Parameters:\n",
        "  #   loc = Mean (“centre”) of the distribution.\n",
        "  #   scale = Standard deviation (spread or “width”) of the distribution. Must be non-negative.\n",
        "  #   size = int or tuple of ints, optional\n",
        "  return np.random.normal(loc = d_mean, scale = np.sqrt(2*d_var)/2, size = (n, 2)).view(np.complex128)\n",
        "\n",
        "\n",
        "## Function to generate the channel-coefficient matrix H\n",
        "def generate_H(K, sigma_sqr_h, sample_size):\n",
        "  hij = []\n",
        "  for i in range(K):  # Total rows, i.e., total receivers or users\n",
        "    hj =[]\n",
        "    for j in range(K):  # Total columns, i.e., total transmitters\n",
        "      h = complex_gaussian(d_mean = 0, d_var = sigma_sqr_h, n = sample_size)\n",
        "      hj.append(h)\n",
        "    hj = np.concatenate(hj, 1)\n",
        "    hij.append(hj)\n",
        "  hij = np.stack(hij, 1)\n",
        "  return hij"
      ],
      "metadata": {
        "id": "iYP3aohWD50-"
      },
      "execution_count": null,
      "outputs": []
    },
    {
      "cell_type": "code",
      "source": [
        "## Create matrix H\n",
        "H_size = int(1e6)\n",
        "sigma_sqr_h = 1\n",
        "# np.random.seed(0)\n",
        "H = generate_H(K, sigma_sqr_h, H_size)\n",
        "print(H.shape)\n",
        "# print(H)"
      ],
      "metadata": {
        "colab": {
          "base_uri": "https://localhost:8080/"
        },
        "id": "1QYjE9m5EEg1",
        "outputId": "24b8571a-14cf-419b-f20c-93f1fde15cae"
      },
      "execution_count": null,
      "outputs": [
        {
          "output_type": "stream",
          "name": "stdout",
          "text": [
            "(1000000, 5, 5)\n"
          ]
        }
      ]
    },
    {
      "cell_type": "code",
      "source": [
        "import numba as nb\n",
        "\n",
        "## Function to compute the square of the absolute value of an array of complex numbers\n",
        "@nb.vectorize([nb.float64(nb.complex128),nb.float32(nb.complex64)])\n",
        "def cmplx_abs_sqr(cmplx_var):\n",
        "  return cmplx_var.real**2 + cmplx_var.imag**2"
      ],
      "metadata": {
        "id": "TlNiozaFEZh8"
      },
      "execution_count": null,
      "outputs": []
    },
    {
      "cell_type": "code",
      "source": [
        "## Function to generate the matrix B\n",
        "def generate_B(H_size, K, SINR_P_min, H):\n",
        "  Bij_list = []\n",
        "  H_abs_sqr = cmplx_abs_sqr(H)\n",
        "  for k in range(H_size):\n",
        "    for i in range(K):  # Total rows\n",
        "      Bj_list =[]\n",
        "      for j in range(K):  # Total columns\n",
        "        if i==j:\n",
        "          B = 0\n",
        "        else:\n",
        "          B_temp = np.multiply(SINR_P_min[i], H_abs_sqr[k,i,j])\n",
        "          B = np.divide(B_temp, H_abs_sqr[k,i,i])\n",
        "        Bj_list.append(B)\n",
        "      Bij_list.append(Bj_list)\n",
        "  Bij_array = np.array(Bij_list)\n",
        "  Bij = Bij_array.reshape((H_size, K, K)) # H_size X row X column\n",
        "  return Bij"
      ],
      "metadata": {
        "id": "71q1DLa1EerE"
      },
      "execution_count": null,
      "outputs": []
    },
    {
      "cell_type": "code",
      "source": [
        "## Create matrix B\n",
        "B = generate_B(H_size, K, SINR_P_min, H)\n",
        "print(B.shape)\n",
        "# print(B)"
      ],
      "metadata": {
        "colab": {
          "base_uri": "https://localhost:8080/"
        },
        "id": "Nh7OLl2wEhe-",
        "outputId": "18236318-74b6-48ec-8d8f-4853cf30576d"
      },
      "execution_count": null,
      "outputs": [
        {
          "output_type": "stream",
          "name": "stdout",
          "text": [
            "(1000000, 5, 5)\n"
          ]
        }
      ]
    },
    {
      "cell_type": "code",
      "source": [
        "## Function to generate the vector u\n",
        "def generate_u(H_size, K, SINR_P_min, sigma_sqr_noise, H):\n",
        "  ui_list = []\n",
        "  H_abs_sqr = cmplx_abs_sqr(H)\n",
        "  for k in range(H_size):\n",
        "    for i in range(K):  # Total rows, i.e., total transmitters\n",
        "      u_temp = np.multiply(SINR_P_min[i], sigma_sqr_noise[i])\n",
        "      u = np.divide(u_temp, H_abs_sqr[k,i,i])\n",
        "      ui_list.append(u)\n",
        "  ui_array = np.array(ui_list)\n",
        "  ui = ui_array.reshape((H_size, K, 1)) # H_size X row X column\n",
        "  return ui"
      ],
      "metadata": {
        "id": "OFsHG3w6EnYy"
      },
      "execution_count": null,
      "outputs": []
    },
    {
      "cell_type": "code",
      "source": [
        "## Create vector u\n",
        "u = generate_u(H_size, K, SINR_P_min, sigma_sqr_noise, H)\n",
        "print(u.shape)\n",
        "# print(u)"
      ],
      "metadata": {
        "colab": {
          "base_uri": "https://localhost:8080/"
        },
        "id": "-BiZZyYOErJp",
        "outputId": "8f73fb0d-fc66-4474-8548-281f331efdda"
      },
      "execution_count": null,
      "outputs": [
        {
          "output_type": "stream",
          "name": "stdout",
          "text": [
            "(1000000, 5, 1)\n"
          ]
        }
      ]
    },
    {
      "cell_type": "code",
      "source": [
        "## Finding indexes of H matrix with the hij set that satisfy constraint on the\n",
        "## maximum transmit power p_max\n",
        "\n",
        "count_var = 0\n",
        "indx_F_H = []\n",
        "indx_temp_F_H = []\n",
        "p_hat_temp_list = []\n",
        "\n",
        "for k in range(H_size):\n",
        "  eigen_value, eigen_vector = np.linalg.eig(B[k])\n",
        "  # print(eigen_value)\n",
        "  if max(abs(eigen_value)) < 1:\n",
        "    subtr = np.identity(K) - B[k,:,:]\n",
        "    invr = np.linalg.inv(subtr)\n",
        "    u_temp = u[k]\n",
        "    p_temp = np.matmul(invr, u_temp)\n",
        "    p_hat_temp_list.append(p_temp)\n",
        "    indx_temp_F_H.append(k)\n",
        "    count_var += 1\n",
        "\n",
        "p_hat_temp_array = np.array(p_hat_temp_list)\n",
        "p_hat_temp = p_hat_temp_array.reshape((count_var,K,1))\n",
        "print(p_hat_temp.shape)\n",
        "# print(p_hat_temp)\n",
        "\n",
        "\n",
        "P = abs(p_hat_temp)\n",
        "fcount = 0\n",
        "p_hat_list = []\n",
        "for n in range(count_var):\n",
        "  P_max = np.amax(P[n])\n",
        "  if P_max <= p_max:\n",
        "    p = p_hat_temp[n]\n",
        "    p_hat_list.append(p)\n",
        "    indx_F_H.append(indx_temp_F_H[n])\n",
        "    fcount += 1\n",
        "\n",
        "p_hat_array = np.array(p_hat_list)\n",
        "p_hat = p_hat_array.reshape((fcount,K,1))\n",
        "# p_hat = p_hat_array.reshape((fcount,1,K))\n",
        "print(p_hat.shape)\n",
        "p_hat_size = p_hat.shape[0]\n",
        "# print(p_hat)"
      ],
      "metadata": {
        "colab": {
          "base_uri": "https://localhost:8080/"
        },
        "id": "BVz-Sw05EvvX",
        "outputId": "463117f9-c582-4ed5-9ff3-f4bf350a0a03"
      },
      "execution_count": null,
      "outputs": [
        {
          "output_type": "stream",
          "name": "stdout",
          "text": [
            "(11044, 5, 1)\n",
            "(317, 5, 1)\n"
          ]
        }
      ]
    },
    {
      "cell_type": "code",
      "source": [
        "## H matrix for a feasible power profile\n",
        "F_H_size = len(indx_F_H)\n",
        "F_H = np.empty((F_H_size, K, K), dtype = complex, order = 'C')\n",
        "\n",
        "for i in range(F_H_size):\n",
        "  j = indx_F_H[i]\n",
        "  F_H[i] = H[j]\n",
        "\n",
        "print(F_H.shape)\n",
        "# print(F_H)"
      ],
      "metadata": {
        "colab": {
          "base_uri": "https://localhost:8080/"
        },
        "id": "B941mI9ZE2nq",
        "outputId": "6e585394-a2ae-4488-ed26-773f5b4ebd19"
      },
      "execution_count": null,
      "outputs": [
        {
          "output_type": "stream",
          "name": "stdout",
          "text": [
            "(317, 5, 5)\n"
          ]
        }
      ]
    },
    {
      "cell_type": "code",
      "source": [
        "# ## Checking SINR_P for feasible H matrix\n",
        "# F_H_abs_sqr = cmplx_abs_sqr(F_H)\n",
        "\n",
        "# for k in range(F_H_size):\n",
        "#   SINR_P_F_H_list = []\n",
        "#   for i in range(K):\n",
        "#     ph = 0\n",
        "#     for j in range(K):\n",
        "#       ph_j = np.multiply(p_hat[k,j], F_H_abs_sqr[k,i,j])\n",
        "#       ph = ph + ph_j\n",
        "\n",
        "#     numr = np.multiply(p_hat[k,i], F_H_abs_sqr[k,i,i])\n",
        "#     dnumr = sigma_sqr_noise[i] + ph - numr\n",
        "#     SINR_P_temp = np.divide(numr, dnumr)\n",
        "#     SINR_P_F_H_list.append(SINR_P_temp)\n",
        "\n",
        "#   SINR_P_F_H_array = np.array(SINR_P_F_H_list)\n",
        "#   SINR_P_F_H = SINR_P_F_H_array.reshape((1, K))\n",
        "#   print(SINR_P_F_H)\n",
        "#   p_hat_t = p_hat[k].reshape((1, 1, K)) # H_size X row X column\n",
        "#   print(p_hat_t)"
      ],
      "metadata": {
        "id": "la2bvn8RE_vL"
      },
      "execution_count": null,
      "outputs": []
    },
    {
      "cell_type": "code",
      "source": [
        "# ## Saving 3D Numpy array to CSV file\n",
        "# # Saving feasible H matrix F_H\n",
        "# from numpy import savetxt\n",
        "\n",
        "# # Reshaping the array from 3D to 2D\n",
        "# F_H_2D = F_H.reshape(F_H.shape[0], -1)\n",
        "\n",
        "# # Saving reshaped array to file in \"Files\" of colab at left bar\n",
        "# # Can download the file in local drive\n",
        "# savetxt('F_H_2D.csv', F_H_2D, delimiter=',')"
      ],
      "metadata": {
        "id": "q1OyPyJ4FBci"
      },
      "execution_count": null,
      "outputs": []
    },
    {
      "cell_type": "code",
      "source": [
        "# ## Saving p_hat matrix to CSV file\n",
        "# # from numpy import savetxt\n",
        "\n",
        "# # Reshaping the array from 3D to 2D\n",
        "# p_hat_2D = p_hat.reshape(p_hat.shape[0], -1)\n",
        "\n",
        "# # Saving reshaped array to file in \"Files\" of colab at left bar\n",
        "# # Can download the file in local drive\n",
        "# savetxt('p_hat_2D.csv', p_hat_2D, delimiter=',')"
      ],
      "metadata": {
        "id": "c9hfUE54FFvw"
      },
      "execution_count": null,
      "outputs": []
    },
    {
      "cell_type": "markdown",
      "source": [
        "**Codes to calculate the average sum rate for the basic model**"
      ],
      "metadata": {
        "id": "NnuUd7006Sbh"
      }
    },
    {
      "cell_type": "code",
      "source": [
        "## Function to split datasets for training, validation, and testing.\n",
        "def split(np_array):\n",
        "  # data_size = np_array.shape[0]\n",
        "  # train_data_size = int(data_size * 0.8)\n",
        "  # valid_data_size = int(data_size * 0.1)\n",
        "  # test_data_size = int(data_size * 0.1)\n",
        "\n",
        "  train_data_size = int(200000)\n",
        "  valid_data_size = int(25000)\n",
        "  test_data_size = int(25000)\n",
        "\n",
        "  train_e_indx = train_data_size\n",
        "  valid_e_indx = train_e_indx + valid_data_size\n",
        "  test_e_indx = valid_e_indx + test_data_size\n",
        "  test_data_size_n = test_e_indx - valid_e_indx\n",
        "\n",
        "  row_count = np_array.shape[1]\n",
        "  column_count = np_array.shape[2]\n",
        "\n",
        "  train_data = np.empty((train_data_size, row_count, column_count), dtype = complex, order = 'C')\n",
        "  valid_data = np.empty((valid_data_size, row_count, column_count), dtype = complex, order = 'C')\n",
        "  test_data = np.empty((test_data_size_n, row_count, column_count), dtype = complex, order = 'C')\n",
        "\n",
        "  for i in range(train_e_indx):\n",
        "    train_data[i] = np_array[i]\n",
        "\n",
        "  xv = 0\n",
        "  for j in range(train_e_indx, valid_e_indx):\n",
        "    valid_data[xv] = np_array[j]\n",
        "    xv = xv + 1\n",
        "\n",
        "  xt = 0\n",
        "  for k in range(valid_e_indx, test_e_indx):\n",
        "    test_data[xt] = np_array[k]\n",
        "    xt = xt + 1\n",
        "\n",
        "  # print(train_data.shape, valid_data.shape, test_data.shape)\n",
        "\n",
        "\n",
        "  ## Training input will be the absolute value\n",
        "  train_input = np.absolute(train_data)\n",
        "  valid_input = np.absolute(valid_data)\n",
        "  test_input = np.absolute(test_data)\n",
        "\n",
        "  print(train_input.shape, valid_input.shape, test_input.shape)\n",
        "\n",
        "  return [train_input, valid_input, test_input, test_data]"
      ],
      "metadata": {
        "id": "1ZoahBKw6KNI"
      },
      "execution_count": null,
      "outputs": []
    },
    {
      "cell_type": "code",
      "source": [
        "## Split F_H matrix\n",
        "F_H_S = split(F_H)\n",
        "train_input_F_H = F_H_S[0]\n",
        "valid_input_F_H = F_H_S[1]\n",
        "test_input_F_H = F_H_S[2]\n",
        "test_data_F_H = F_H_S[3]"
      ],
      "metadata": {
        "id": "q7bBMqu87C6A"
      },
      "execution_count": null,
      "outputs": []
    },
    {
      "cell_type": "code",
      "source": [
        "## Split p_hat vector\n",
        "p_hat_S = split(p_hat)\n",
        "train_input_p_hat = p_hat_S[0]\n",
        "valid_input_p_hat = p_hat_S[1]\n",
        "test_input_p_hat = p_hat_S[2]\n",
        "test_data_p_hat = p_hat_S[3]"
      ],
      "metadata": {
        "id": "18sHbJAH7LQE"
      },
      "execution_count": null,
      "outputs": []
    },
    {
      "cell_type": "code",
      "source": [
        "## Function to calculate the average sum rate\n",
        "# Here, p_model is the output of DNN, and it is a 2D array.\n",
        "import math\n",
        "\n",
        "def average_sum_rate(hij, p_model, sigma_sqr_noise, K):\n",
        "  R = 0\n",
        "  hij_size = hij.shape[0]\n",
        "  hij_abs_sqr = cmplx_abs_sqr(hij)\n",
        "\n",
        "  for k in range(hij_size):\n",
        "    for i in range(K):  # Total rows\n",
        "      phn = 0\n",
        "      for j in range(K):  # Total columns\n",
        "        phn_j = np.multiply(p_model[k,j], hij_abs_sqr[k,i,j])\n",
        "        phn = phn + phn_j\n",
        "\n",
        "      numr_s = np.multiply(p_model[k,i], hij_abs_sqr[k,i,i])\n",
        "      dnumr_s = sigma_sqr_noise[i] + phn - numr_s\n",
        "      R_temp = math.log2(1 + np.divide(numr_s, dnumr_s))\n",
        "      R = R + R_temp\n",
        "\n",
        "  return (R/hij_size)"
      ],
      "metadata": {
        "id": "CBY9Ga8J7UOv"
      },
      "execution_count": null,
      "outputs": []
    },
    {
      "cell_type": "code",
      "source": [
        "# DNN Sum Rate for test_data_F_H\n",
        "output_P_hat = abs(test_data_p_hat)\n",
        "sumrate_F_H = average_sum_rate(test_data_F_H, output_P_hat, sigma_sqr_noise, K)\n",
        "print(\"Average Sum Rate for all H matrices: {:.3f} Bit/Second/Hertz\".format(sumrate_F_H))"
      ],
      "metadata": {
        "id": "CWfAFbBB7eqs"
      },
      "execution_count": null,
      "outputs": []
    }
  ]
}