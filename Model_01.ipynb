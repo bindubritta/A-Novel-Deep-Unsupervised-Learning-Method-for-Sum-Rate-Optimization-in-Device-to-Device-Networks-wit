{
  "nbformat": 4,
  "nbformat_minor": 0,
  "metadata": {
    "colab": {
      "provenance": []
    },
    "kernelspec": {
      "name": "python3",
      "display_name": "Python 3"
    },
    "language_info": {
      "name": "python"
    },
    "gpuClass": "standard"
  },
  "cells": [
    {
      "cell_type": "markdown",
      "source": [
        "**Model 1: P_hat = A_inv x (b + meu)**"
      ],
      "metadata": {
        "id": "dp0eV7rtKFFR"
      }
    },
    {
      "cell_type": "code",
      "execution_count": null,
      "metadata": {
        "id": "gRtCp3ocJoI_"
      },
      "outputs": [],
      "source": [
        "# K = 5   # Number of transmitter-receiver pairs"
      ]
    },
    {
      "cell_type": "code",
      "source": [
        "# import numpy as np\n",
        "\n",
        "# ## Function to generate an array of float values within a given range\n",
        "# def generate_f_val(f_val_min, f_val_max, f_count):\n",
        "#   f_val = []\n",
        "#   for i in range(f_count):\n",
        "#     f_val_temp = round(np.random.uniform(f_val_min, f_val_max),3)\n",
        "#     f_val.append(f_val_temp)\n",
        "#   return f_val"
      ],
      "metadata": {
        "id": "Jy4DE9U5KAJ7"
      },
      "execution_count": null,
      "outputs": []
    },
    {
      "cell_type": "code",
      "source": [
        "# ## Variances for noise signals\n",
        "# # https://www.youtube.com/watch?v=OA4viERrlzA&list=PLTv48TzNRhaKz0C-dCAwimXSypV_5UTxg\n",
        "# # From 6:44 to 0:55\n",
        "# # Power Spectral Density of Noise, N0 = 1e-14.4 W/Hz at room temperature\n",
        "# # If Bandwidth, B = 10 MHz\n",
        "# # Then the Noise Power or Noise Variance = N0 X B = 1e-7.4 W \n",
        "\n",
        "# # sigma_sqr_noise = generate_f_val(1.1e-2, 1.9e-2, K)\n",
        "# sigma_sqr_noise = generate_f_val(1, 1, K)\n",
        "# print(sigma_sqr_noise)"
      ],
      "metadata": {
        "id": "y1jnpIExLjOd"
      },
      "execution_count": null,
      "outputs": []
    },
    {
      "cell_type": "code",
      "source": [
        "# ## Minimum rate for the achievable SINR of multiple concurrent transmissions\n",
        "# # SINR_P_min = generate_f_val(0.301, 0.305, K)\n",
        "# SINR_P_min = generate_f_val(0.5, 0.5, K)\n",
        "# print(SINR_P_min)"
      ],
      "metadata": {
        "id": "35LhA4LtMSvL"
      },
      "execution_count": null,
      "outputs": []
    },
    {
      "cell_type": "code",
      "source": [
        "# ## Replacing SINR with SINR = 0 for some receiver(s)\n",
        "# indx_zero = np.array([3, 4])\n",
        "# for i in range(len(indx_zero)):\n",
        "#   SINR_P_min[indx_zero[i]] = 0\n",
        "# print(SINR_P_min)"
      ],
      "metadata": {
        "id": "VVczFdhQOavC"
      },
      "execution_count": null,
      "outputs": []
    },
    {
      "cell_type": "code",
      "source": [
        "# ## Maximum power allowed for transmission\n",
        "\n",
        "# ## https://www.fcc.gov/general/radio-frequency-safety-0#:~:text=The%20SAR%20is%20a%20value,(1.6%20W%2Fkg).\n",
        "# ## Cellular Telephone Specific Absorption Rate (SAR)\n",
        "# # The SAR is a value that corresponds to the relative amount of RF energy \n",
        "# # absorbed in the head of a user of a wireless handset. The FCC limit for public\n",
        "# # exposure from cellular telephones is an SAR level of 1.6 watts per kilogram.\n",
        "\n",
        "# ## https://www.wilsonamplifiers.com/blog/how-to-read-cell-phone-signal-strength-the-right-way/\n",
        "# ## What’s a Good Signal Strength for a Cell Phone?\n",
        "# # -50 to -79 dBm: considered a great signal\n",
        "# # -80 to -89 dBm: Considered good signal\n",
        "# # -90 to -99 dBm: Considered average signal\n",
        "# # -100 to -109 dBm: Considered poor signal\n",
        "# # -110 to -120 dBm: Considered very poor signal\n",
        "\n",
        "# ## https://www.rapidtables.com/convert/power/dBm_to_Watt.html \n",
        "# # -50 dBm = 1e-8 watt\n",
        "# # decibel of mW (dBm) = 10 log10(Signal Power / 1 mW)\n",
        "\n",
        "# ## https://www.youtube.com/watch?v=OA4viERrlzA&list=PLTv48TzNRhaKz0C-dCAwimXSypV_5UTxg\n",
        "# # From 0:28 to 0:55\n",
        "# # Transmit power may start at 1 mW for Bluetooth\n",
        "# # 10 mW to 100 mW for mobile phones (Pmax = 100 MW, quite typical)\n",
        "# # BTS can use up to 40 W\n",
        "\n",
        "# # p_max = 1.0"
      ],
      "metadata": {
        "id": "98Zj0oBbOmux"
      },
      "execution_count": null,
      "outputs": []
    },
    {
      "cell_type": "code",
      "source": [
        "import numpy as np\n",
        "\n",
        "## Number of transmitter-receiver pairs\n",
        "K = 5\n",
        "\n",
        "## Variances for noise signals\n",
        "# sigma_sqr_noise = np.array([0.0, 0.0, 0.0, 0.0, 0.0], dtype = float)\n",
        "sigma_sqr_noise = np.array([0.1, 0.1, 0.1, 0.1, 0.1], dtype = float)\n",
        "# sigma_sqr_noise = np.array([0.01, 0.01, 0.01, 0.01, 0.01], dtype = float)\n",
        "# sigma_sqr_noise = np.array([0.001, 0.001, 0.001, 0.001, 0.001], dtype = float)\n",
        "\n",
        "## Minimum rate for the achievable SINR of multiple concurrent transmissions\n",
        "SINR_P_min = np.array([0.5, 0.5, 0.5, 0, 0])\n",
        "\n",
        "## Maximum transmit power\n",
        "p_max = 1.0"
      ],
      "metadata": {
        "id": "s7p8E3GvOucd"
      },
      "execution_count": null,
      "outputs": []
    },
    {
      "cell_type": "code",
      "source": [
        "# ## Function to generate the Circularly Symmetric Complex Gaussian (CSCG) distributions\n",
        "# def complex_gaussian(d_mean = 0, d_var = 1, n = 1000):\n",
        "#   # https://stackoverflow.com/questions/55700338/how-to-generate-a-complex-gaussian-white-noise-signal-in-pythonor-numpy-scipy\n",
        "#   # https://dsp.stackexchange.com/questions/40320/confusion-regarding-pdf-of-circularly-symmetric-complex-gaussian-rv\n",
        "#   # https://www.researchgate.net/post/When_is_Circular-symmetric_complex_Gaussian_channel_a_good_model\n",
        "#   # https://www.researchgate.net/post/How_can_I_generate_circularly_symmetric_complex_gaussian_CSCG_noise\n",
        "\n",
        "#   # Draw random samples from a normal (Gaussian) distribution.\n",
        "#   # Parameters:\n",
        "#   #   loc = Mean (“centre”) of the distribution.\n",
        "#   #   scale = Standard deviation (spread or “width”) of the distribution. Must be non-negative.\n",
        "#   #   size = int or tuple of ints, optional\n",
        "#   return np.random.normal(loc = d_mean, scale = np.sqrt(2*d_var)/2, size = (n, 2)).view(np.complex128)\n",
        "\n",
        "\n",
        "# ## Function to generate the channel-coefficient matrix H\n",
        "# def generate_H(K, sigma_sqr_h, sample_size):\n",
        "#   hij = []\n",
        "#   for i in range(K):  # Total rows, i.e., total receivers or users\n",
        "#     hj =[]\n",
        "#     for j in range(K):  # Total columns, i.e., total transmitters\n",
        "#       h = complex_gaussian(d_mean = 0, d_var = sigma_sqr_h, n = sample_size)\n",
        "#       hj.append(h)\n",
        "#     hj = np.concatenate(hj, 1)\n",
        "#     hij.append(hj)\n",
        "#   hij = np.stack(hij, 1)\n",
        "#   return hij"
      ],
      "metadata": {
        "id": "1foJysB3PDQk"
      },
      "execution_count": null,
      "outputs": []
    },
    {
      "cell_type": "code",
      "source": [
        "# ## Create matrix H\n",
        "# H_size = int(1e6)\n",
        "# sigma_sqr_h = 1\n",
        "# H = generate_H(K, sigma_sqr_h, H_size)\n",
        "# print(H.shape)\n",
        "# # print(H)"
      ],
      "metadata": {
        "id": "LO7SKhE2PK8c"
      },
      "execution_count": null,
      "outputs": []
    },
    {
      "cell_type": "code",
      "source": [
        "import numba as nb\n",
        "\n",
        "## Function to compute the square of the absolute value of an array of complex numbers\n",
        "# https://stackoverflow.com/questions/30437947/most-memory-efficient-way-to-compute-abs2-of-complex-numpy-ndarray\n",
        "# https://stackoverflow.com/questions/37197341/why-is-numba-throwing-an-error-regarding-numpy-methods-when-nopython-true\n",
        "@nb.vectorize([nb.float64(nb.complex128),nb.float32(nb.complex64)])\n",
        "def cmplx_abs_sqr(cmplx_var):\n",
        "  return cmplx_var.real**2 + cmplx_var.imag**2"
      ],
      "metadata": {
        "id": "Fx9vomtzPuQR"
      },
      "execution_count": null,
      "outputs": []
    },
    {
      "cell_type": "code",
      "source": [
        "# ## Function to generate the matrix B\n",
        "# def generate_B(H_size, K, SINR_P_min, H):\n",
        "#   Bij_list = []\n",
        "#   H_abs_sqr = cmplx_abs_sqr(H)\n",
        "#   for k in range(H_size):\n",
        "#     for i in range(K):  # Total rows\n",
        "#       Bj_list =[]\n",
        "#       for j in range(K):  # Total columns\n",
        "#         if i==j:\n",
        "#           B = 0\n",
        "#         else:\n",
        "#           B_temp = np.multiply(SINR_P_min[i], H_abs_sqr[k,i,j])\n",
        "#           B = np.divide(B_temp, H_abs_sqr[k,i,i])\n",
        "#         Bj_list.append(B)\n",
        "#       Bij_list.append(Bj_list)\n",
        "#   Bij_array = np.array(Bij_list)\n",
        "#   Bij = Bij_array.reshape((H_size, K, K)) # H_size X row X column\n",
        "#   return Bij"
      ],
      "metadata": {
        "id": "_ElQ83STP_jJ"
      },
      "execution_count": null,
      "outputs": []
    },
    {
      "cell_type": "code",
      "source": [
        "# ## Create matrix B\n",
        "# B = generate_B(H_size, K, SINR_P_min, H)\n",
        "# print(B.shape)\n",
        "# # print(B)"
      ],
      "metadata": {
        "id": "Do8TBnmOQGfm"
      },
      "execution_count": null,
      "outputs": []
    },
    {
      "cell_type": "code",
      "source": [
        "# ## Function to generate the vector u\n",
        "# def generate_u(H_size, K, SINR_P_min, sigma_sqr_noise, H):\n",
        "#   ui_list = []\n",
        "#   H_abs_sqr = cmplx_abs_sqr(H)\n",
        "#   for k in range(H_size):\n",
        "#     for i in range(K):  # Total rows, i.e., total transmitters\n",
        "#       u_temp = np.multiply(SINR_P_min[i], sigma_sqr_noise[i])\n",
        "#       u = np.divide(u_temp, H_abs_sqr[k,i,i])\n",
        "#       ui_list.append(u)      \n",
        "#   ui_array = np.array(ui_list)\n",
        "#   ui = ui_array.reshape((H_size, K, 1)) # H_size X row X column\n",
        "#   return ui"
      ],
      "metadata": {
        "id": "0NoA9KeKQL55"
      },
      "execution_count": null,
      "outputs": []
    },
    {
      "cell_type": "code",
      "source": [
        "# ## Create vector u\n",
        "# u = generate_u(H_size, K, SINR_P_min, sigma_sqr_noise, H)\n",
        "# print(u.shape)\n",
        "# # print(u)"
      ],
      "metadata": {
        "id": "7HYHFUL9Q2jw"
      },
      "execution_count": null,
      "outputs": []
    },
    {
      "cell_type": "code",
      "source": [
        "# ## Finding indexes of H matrix with the hij set that satisfy constraint on the \n",
        "# ## maximum transmit power p_max\n",
        "\n",
        "# count_var = 0\n",
        "# indx_F_H = []\n",
        "# indx_temp_F_H = []\n",
        "# p_hat_temp_list = []\n",
        "\n",
        "# for k in range(H_size):\n",
        "#   eigen_value, eigen_vector = np.linalg.eig(B[k])\n",
        "#   # print(eigen_value)  \n",
        "#   if max(abs(eigen_value)) < 1:\n",
        "#     subtr = np.identity(K) - B[k,:,:]\n",
        "#     invr = np.linalg.inv(subtr)    \n",
        "#     u_temp = u[k]\n",
        "#     p_temp = np.matmul(invr, u_temp)\n",
        "#     p_hat_temp_list.append(p_temp)\n",
        "#     indx_temp_F_H.append(k)\n",
        "#     count_var += 1\n",
        "\n",
        "# p_hat_temp_array = np.array(p_hat_temp_list)\n",
        "# p_hat_temp = p_hat_temp_array.reshape((count_var,K,1))\n",
        "# print(p_hat_temp.shape)\n",
        "# # print(p_hat_temp)\n",
        "\n",
        "\n",
        "# P = abs(p_hat_temp)\n",
        "# fcount = 0\n",
        "# p_hat_list = []\n",
        "# for n in range(count_var):\n",
        "#   P_max = np.amax(P[n])\n",
        "#   if P_max <= p_max:\n",
        "#     p = p_hat_temp[n]\n",
        "#     p_hat_list.append(p)\n",
        "#     indx_F_H.append(indx_temp_F_H[n])\n",
        "#     fcount += 1\n",
        "\n",
        "# p_hat_array = np.array(p_hat_list)\n",
        "# p_hat = p_hat_array.reshape((fcount,K,1))\n",
        "# # p_hat = p_hat_array.reshape((fcount,1,K))\n",
        "# print(p_hat.shape)\n",
        "# p_hat_size = p_hat.shape[0]\n",
        "# # print(p_hat)"
      ],
      "metadata": {
        "id": "85S5kiODQ9uz"
      },
      "execution_count": null,
      "outputs": []
    },
    {
      "cell_type": "code",
      "source": [
        "# ## H matrix for a feasible power profile\n",
        "# F_H_size = len(indx_F_H)\n",
        "# F_H = np.empty((F_H_size, K, K), dtype = complex, order = 'C')\n",
        "\n",
        "# for i in range(F_H_size):\n",
        "#   j = indx_F_H[i]\n",
        "#   F_H[i] = H[j]\n",
        "\n",
        "# print(F_H.shape)\n",
        "# # print(F_H)"
      ],
      "metadata": {
        "id": "b5RhyblNRGAa"
      },
      "execution_count": null,
      "outputs": []
    },
    {
      "cell_type": "code",
      "source": [
        "# ## Checking SINR_P for feasible H matrix\n",
        "# F_H_abs_sqr = cmplx_abs_sqr(F_H)\n",
        "\n",
        "# for k in range(F_H_size):\n",
        "#   SINR_P_F_H_list = []\n",
        "#   for i in range(K):\n",
        "#     ph = 0\n",
        "#     for j in range(K):\n",
        "#       ph_j = np.multiply(p_hat[k,j], F_H_abs_sqr[k,i,j])\n",
        "#       ph = ph + ph_j\n",
        "    \n",
        "#     numr = np.multiply(p_hat[k,i], F_H_abs_sqr[k,i,i])\n",
        "#     dnumr = sigma_sqr_noise[i] + ph - numr\n",
        "#     SINR_P_temp = np.divide(numr, dnumr)\n",
        "#     SINR_P_F_H_list.append(SINR_P_temp)\n",
        "  \n",
        "#   SINR_P_F_H_array = np.array(SINR_P_F_H_list)\n",
        "#   SINR_P_F_H = SINR_P_F_H_array.reshape((1, K))\n",
        "#   print(SINR_P_F_H)\n",
        "#   p_hat_t = p_hat[k].reshape((1, 1, K)) # H_size X row X column\n",
        "#   print(p_hat_t)"
      ],
      "metadata": {
        "id": "wuFQwfbVRONV"
      },
      "execution_count": null,
      "outputs": []
    },
    {
      "cell_type": "code",
      "source": [
        "# ## Saving 3D Numpy array to CSV file\n",
        "# # Saving feasible H matrix F_H\n",
        "# from numpy import savetxt\n",
        "\n",
        "# # Reshaping the array from 3D to 2D\n",
        "# F_H_2D = F_H.reshape(F_H.shape[0], -1)\n",
        "\n",
        "# # Saving reshaped array to file in \"Files\" of colab at left bar\n",
        "# # Can download the file in local drive\n",
        "# savetxt('F_H_2D.csv', F_H_2D, delimiter=',')"
      ],
      "metadata": {
        "id": "lTIUaGB3oLVq"
      },
      "execution_count": null,
      "outputs": []
    },
    {
      "cell_type": "code",
      "source": [
        "# ## Saving p_hat matrix to CSV file\n",
        "# # from numpy import savetxt\n",
        "\n",
        "# # Reshaping the array from 3D to 2D\n",
        "# p_hat_2D = p_hat.reshape(p_hat.shape[0], -1)\n",
        "\n",
        "# # Saving reshaped array to file in \"Files\" of colab at left bar\n",
        "# # Can download the file in local drive\n",
        "# savetxt('p_hat_2D.csv', p_hat_2D, delimiter=',')"
      ],
      "metadata": {
        "id": "IXCPGky_oQGE"
      },
      "execution_count": null,
      "outputs": []
    },
    {
      "cell_type": "code",
      "source": [
        "## Loading a NumPy array from a CSV file\n",
        "# https://neptune.ai/blog/google-colab-dealing-with-files\n",
        "# https://colab.research.google.com/drive/1TSF749i9-hoZv3n_8znjuf8Ei5o6YqL8\n",
        "# Loading F_H array from a CSV file\n",
        "from numpy import loadtxt\n",
        "\n",
        "## Reading an array from the file\n",
        "# If we want to read a file from our local drive, we have to first upload it to Collab's session storage.\n",
        "F_H_2D_L = np.loadtxt('F_H_2D.csv', delimiter = ',', dtype = str)\n",
        "\n",
        "## Reshaping the array from 2D to 3D\n",
        "# The initial declaration can be used to calculate the value of K\n",
        "# To get K from the CSV file:\n",
        "# K = int(np.sqrt(F_H_2D_L.shape[1]))\n",
        "F_H_3D = F_H_2D_L.reshape(F_H_2D_L.shape[0], F_H_2D_L.shape[1] // K, K)\n",
        "F_H_3D_size = F_H_3D.shape[0]"
      ],
      "metadata": {
        "id": "6wSz2ELCoUAz"
      },
      "execution_count": null,
      "outputs": []
    },
    {
      "cell_type": "code",
      "source": [
        "## Converting string data to complex data and removing the initial whitespace\n",
        "F_H_list = []\n",
        "for k in range(F_H_3D_size):\n",
        "  for i in range(K):  # Total rows\n",
        "    for j in range(K):  # Total columns\n",
        "      F_H_temp = complex(F_H_3D[k][i][j].strip())\n",
        "      F_H_list.append(F_H_temp)\n",
        "F_H_array = np.array(F_H_list)\n",
        "F_H = F_H_array.reshape((F_H_3D_size, K, K)) # H_size X row X column_count\n",
        "print(F_H.shape)\n",
        "F_H_size = F_H.shape[0]\n",
        "# print(F_H)"
      ],
      "metadata": {
        "id": "GBpEySUjofeO",
        "colab": {
          "base_uri": "https://localhost:8080/"
        },
        "outputId": "c9bc51bb-ce36-464b-cb4d-e7aa46495a96"
      },
      "execution_count": null,
      "outputs": [
        {
          "output_type": "stream",
          "name": "stdout",
          "text": [
            "(257495, 5, 5)\n"
          ]
        }
      ]
    },
    {
      "cell_type": "code",
      "source": [
        "# ## Loading p_hat array from a CSV file\n",
        "# # from numpy import loadtxt\n",
        "\n",
        "# ## Reading an array from the file\n",
        "# # If we want to read a file from our local drive, we have to first upload it to Collab's session storage.\n",
        "# p_hat_2D_L = np.loadtxt('p_hat_2D.csv', delimiter = ',', dtype = float)\n",
        "\n",
        "# ## Reshaping the array from 2D to 3D\n",
        "# # The initial declaration can be used to calculate the value of K\n",
        "# # To get K from the CSV file:\n",
        "# # K = int(np.sqrt(F_H_2D_L.shape[1]))\n",
        "# p_hat = p_hat_2D_L.reshape((p_hat_2D_L.shape[0], p_hat_2D_L.shape[1], 1)) # H_size X row X column\n",
        "# p_hat_size = p_hat.shape[0]\n",
        "# print(p_hat.shape)"
      ],
      "metadata": {
        "id": "zVwJfkONol5-"
      },
      "execution_count": null,
      "outputs": []
    },
    {
      "cell_type": "code",
      "source": [
        "## Function to generate the matrix A (K x K)\n",
        "def generate_A(F_H_size, K, SINR_P_min, F_H):\n",
        "  Aij_list = []\n",
        "  F_H_abs_sqr = cmplx_abs_sqr(F_H)\n",
        "\n",
        "  for k in range(F_H_size):    \n",
        "    for i in range(K):  # Total rows\n",
        "      Aj_list =[]\n",
        "      for j in range(K): # Total columns\n",
        "        if i==j:\n",
        "          A = F_H_abs_sqr[k,i,j]\n",
        "        else:\n",
        "          A = np.multiply(-SINR_P_min[i], F_H_abs_sqr[k,i,j])\n",
        "        Aj_list.append(A)\n",
        "      Aij_list.append(Aj_list)\n",
        "  Aij_array = np.array(Aij_list)\n",
        "  Aij = Aij_array.reshape((F_H_size, K, K)) # H_size X row X column\n",
        "  return Aij"
      ],
      "metadata": {
        "id": "L8cJY-gXhM1o"
      },
      "execution_count": null,
      "outputs": []
    },
    {
      "cell_type": "code",
      "source": [
        "## Create matrix A\n",
        "A = generate_A(F_H_size, K, SINR_P_min, F_H)\n",
        "print(A.shape)\n",
        "# print(A)"
      ],
      "metadata": {
        "colab": {
          "base_uri": "https://localhost:8080/"
        },
        "id": "n84VL_CUhQVi",
        "outputId": "abc0aa4e-5318-4b25-9c99-1d70462aa88b"
      },
      "execution_count": null,
      "outputs": [
        {
          "output_type": "stream",
          "name": "stdout",
          "text": [
            "(257495, 5, 5)\n"
          ]
        }
      ]
    },
    {
      "cell_type": "code",
      "source": [
        "## Function to generate the vector b (K x 1)\n",
        "def generate_b(F_H_size, K, SINR_P_min, sigma_sqr_noise, F_H):\n",
        "  bi_list = []  \n",
        "  for k in range(F_H_size):\n",
        "    for i in range(K):  # Total rows, i.e., total transmitters\n",
        "      b = np.multiply(SINR_P_min[i], sigma_sqr_noise[i])\n",
        "      bi_list.append(b)\n",
        "  bi_array = np.array(bi_list)\n",
        "  bi = bi_array.reshape((F_H_size, K, 1)) # H_size X row X column\n",
        "  return bi"
      ],
      "metadata": {
        "id": "-6-F2dBOhZrp"
      },
      "execution_count": null,
      "outputs": []
    },
    {
      "cell_type": "code",
      "source": [
        "## Create vector b\n",
        "b = generate_b(F_H_size, K, SINR_P_min, sigma_sqr_noise, F_H)\n",
        "print(b.shape)\n",
        "# print(b)"
      ],
      "metadata": {
        "colab": {
          "base_uri": "https://localhost:8080/"
        },
        "id": "zybS1lEDhaoU",
        "outputId": "c68a5a0f-5b33-4c81-c064-1ebd98102a52"
      },
      "execution_count": null,
      "outputs": [
        {
          "output_type": "stream",
          "name": "stdout",
          "text": [
            "(257495, 5, 1)\n"
          ]
        }
      ]
    },
    {
      "cell_type": "code",
      "source": [
        "## Create matrix A_inv, i.e., the pseudo inverse of matrix A\n",
        "A_inv = np.linalg.pinv(A)\n",
        "print(A_inv.shape)\n",
        "# print(A_inv)"
      ],
      "metadata": {
        "colab": {
          "base_uri": "https://localhost:8080/"
        },
        "id": "2UKeHq34hgj2",
        "outputId": "e17ec0d8-4098-45cc-f47c-5cb170a4b930"
      },
      "execution_count": null,
      "outputs": [
        {
          "output_type": "stream",
          "name": "stdout",
          "text": [
            "(257495, 5, 5)\n"
          ]
        }
      ]
    },
    {
      "cell_type": "code",
      "source": [
        "## Function to split datasets for training, validation, and testing.\n",
        "def split(np_array):\n",
        "  # data_size = np_array.shape[0]\n",
        "  # train_data_size = int(data_size * 0.8)\n",
        "  # valid_data_size = int(data_size * 0.1)\n",
        "  # test_data_size = int(data_size * 0.1)\n",
        "\n",
        "  train_data_size = int(206000)\n",
        "  valid_data_size = int(25000)\n",
        "  test_data_size = int(25000)\n",
        "\n",
        "  train_e_indx = train_data_size\n",
        "  valid_e_indx = train_e_indx + valid_data_size\n",
        "  # test_e_indx = valid_e_indx + test_data_size - 2\n",
        "  test_e_indx = valid_e_indx + test_data_size\n",
        "  test_data_size_n = test_e_indx - valid_e_indx\n",
        "\n",
        "  row_count = np_array.shape[1]\n",
        "  column_count = np_array.shape[2]\n",
        "\n",
        "  train_data = np.empty((train_data_size, row_count, column_count), dtype = complex, order = 'C')\n",
        "  valid_data = np.empty((valid_data_size, row_count, column_count), dtype = complex, order = 'C')\n",
        "  test_data = np.empty((test_data_size_n, row_count, column_count), dtype = complex, order = 'C')\n",
        "\n",
        "  for i in range(train_e_indx):\n",
        "    train_data[i] = np_array[i]\n",
        "  \n",
        "  xv = 0\n",
        "  for j in range(train_e_indx, valid_e_indx):\n",
        "    valid_data[xv] = np_array[j]\n",
        "    xv = xv + 1\n",
        "  \n",
        "  xt = 0\n",
        "  for k in range(valid_e_indx, test_e_indx):\n",
        "    test_data[xt] = np_array[k]\n",
        "    xt = xt + 1\n",
        "  \n",
        "  # print(train_data.shape, valid_data.shape, test_data.shape)\n",
        "\n",
        "  \n",
        "  ## Training input will be the absolute value\n",
        "  train_input = np.absolute(train_data)\n",
        "  valid_input = np.absolute(valid_data)\n",
        "  test_input = np.absolute(test_data)\n",
        "\n",
        "  print(train_input.shape, valid_input.shape, test_input.shape)\n",
        "\n",
        "  return [train_input, valid_input, test_input, test_data]"
      ],
      "metadata": {
        "id": "_sRYFgyasz-g"
      },
      "execution_count": null,
      "outputs": []
    },
    {
      "cell_type": "code",
      "source": [
        "## Split F_H Matrix\n",
        "F_H_S = split(F_H)\n",
        "train_input_F_H = F_H_S[0]\n",
        "valid_input_F_H = F_H_S[1]\n",
        "test_input_F_H = F_H_S[2]\n",
        "test_data_F_H = F_H_S[3]"
      ],
      "metadata": {
        "colab": {
          "base_uri": "https://localhost:8080/"
        },
        "id": "82SQ9k2Es62S",
        "outputId": "145e29e5-3f1e-4427-95c0-00e165aa257e"
      },
      "execution_count": null,
      "outputs": [
        {
          "output_type": "stream",
          "name": "stdout",
          "text": [
            "(206000, 5, 5) (25000, 5, 5) (25000, 5, 5)\n"
          ]
        }
      ]
    },
    {
      "cell_type": "code",
      "source": [
        "## Split A_inv Matrix\n",
        "A_inv_S = split(A_inv)\n",
        "train_input_A_inv = A_inv_S[0]\n",
        "valid_input_A_inv = A_inv_S[1]\n",
        "test_input_A_inv = A_inv_S[2]\n",
        "test_data_A_inv = A_inv_S[3]"
      ],
      "metadata": {
        "colab": {
          "base_uri": "https://localhost:8080/"
        },
        "id": "zYDqkyj4hrvH",
        "outputId": "ecc616e4-2755-4eb3-f2a1-94705e5be806"
      },
      "execution_count": null,
      "outputs": [
        {
          "output_type": "stream",
          "name": "stdout",
          "text": [
            "(206000, 5, 5) (25000, 5, 5) (25000, 5, 5)\n"
          ]
        }
      ]
    },
    {
      "cell_type": "code",
      "source": [
        "## Split b Matrix\n",
        "b_S = split(b)\n",
        "train_input_b = b_S[0]\n",
        "valid_input_b = b_S[1]\n",
        "test_input_b = b_S[2]\n",
        "test_data_b = b_S[3]"
      ],
      "metadata": {
        "colab": {
          "base_uri": "https://localhost:8080/"
        },
        "id": "0VFev8m6hure",
        "outputId": "9b5d80e5-57a1-409a-c5dc-cff2ae6ae259"
      },
      "execution_count": null,
      "outputs": [
        {
          "output_type": "stream",
          "name": "stdout",
          "text": [
            "(206000, 5, 1) (25000, 5, 1) (25000, 5, 1)\n"
          ]
        }
      ]
    },
    {
      "cell_type": "code",
      "source": [
        "# ## Split p_hat Matrix\n",
        "# p_hat_S = split(p_hat)\n",
        "# train_input_p_hat = p_hat_S[0]\n",
        "# valid_input_p_hat = p_hat_S[1]\n",
        "# test_input_p_hat = p_hat_S[2]\n",
        "# test_data_p_hat = p_hat_S[3]"
      ],
      "metadata": {
        "id": "kr0HEhRps-iM"
      },
      "execution_count": null,
      "outputs": []
    },
    {
      "cell_type": "code",
      "source": [
        "from pickle import TRUE\n",
        "## Define the DNN model - The Functional API\n",
        "import tensorflow as tf\n",
        "from tensorflow import keras\n",
        "## from tensorflow.keras import layers # shows warning\n",
        "from keras.api._v2.keras import layers\n",
        "# from tensorflow.keras import activations\n",
        "# from keras.api._v2.keras import activations\n",
        "from keras.layers import Input, Lambda\n",
        "from keras.models import Model\n",
        "\n",
        "\n",
        "hij_inputs = keras.Input(shape=(K,K), name = \"hij_inputs\")\n",
        "f1 = layers.Flatten(name = \"flatten_layer_hij\")(hij_inputs)\n",
        "\n",
        "d1 = layers.Dense(2*K*K, activation=\"relu\", name = \"dense_layer_1\")(f1)\n",
        "b1 = layers.BatchNormalization(name = \"batch_norm_layer_1\")(d1)\n",
        "\n",
        "d2 = layers.Dense(K*K, activation=\"relu\", name = \"dense_layer_2\")(b1)\n",
        "b2 = layers.BatchNormalization(name = \"batch_norm_layer_2\")(d2)\n",
        "\n",
        "meu = layers.Dense(K, activation=\"relu\", name = \"meu\")(b2)\n",
        "# meu = layers.Dense(K, activation=\"sigmoid\", name = \"meu\")(b2)\n",
        "# def meu_layer(tensor_meu):\n",
        "#   tf.print(\"\\nmeu output:\\n\", tensor_meu)\n",
        "#   return tensor_meu\n",
        "# meu_layer = tf.keras.layers.Lambda(meu_layer, name=\"meu_layer\")(meu)\n",
        "\n",
        "A_inv_inputs = keras.Input(shape=(K,K), name = \"A_inv_inputs\")\n",
        "f2 = layers.Flatten(name = \"flatten_layer_A_inv\")(A_inv_inputs)\n",
        "\n",
        "b_inputs = keras.Input(shape=(K,1), name = \"b_inputs\")\n",
        "f3 = layers.Flatten(name = \"flatten_layer_b\")(b_inputs)\n",
        "\n",
        "def custom_layer(tensor):\n",
        "  t_A_inv = tensor[0]\n",
        "  t_b = tensor[1]\n",
        "  t_meu = tensor[2]\n",
        "\n",
        "  A_inv_cl = tf.reshape(t_A_inv[:,0:K*K], (-1,K,K))\n",
        "  b_cl = tf.reshape(t_b[:,0:K*1], (-1,K,1))\n",
        "  meu_cl = tf.reshape(t_meu[:,0:K*1], (-1,K,1))\n",
        "\n",
        "  part_2 = tf.add(b_cl, meu_cl)\n",
        "  P_hat_cl = tf.matmul(A_inv_cl, part_2)\n",
        "  # P_hat_cl_Norm = tf.math.erf(P_hat_cl)\n",
        "  # P_hat_cl_Norm = tf.math.tanh(P_hat_cl)\n",
        "  P_hat_cl_Norm = tf.math.divide(P_hat_cl, tf.reduce_max(P_hat_cl, axis = 1, keepdims = TRUE))\n",
        "    \n",
        "  # return P_hat_cl\n",
        "  return P_hat_cl_Norm\n",
        "\n",
        "lambda_layer = tf.keras.layers.Lambda(custom_layer, name=\"lambda_layer\")([f2, f3, meu])\n",
        "f4 = layers.Flatten(name = \"flatten_layer_output\")(lambda_layer)\n",
        "\n",
        "model = keras.Model(inputs = [hij_inputs, A_inv_inputs, b_inputs], outputs = f4, name = \"functional_api\")\n",
        "model.summary()"
      ],
      "metadata": {
        "id": "EGjbOfESh0At",
        "colab": {
          "base_uri": "https://localhost:8080/"
        },
        "outputId": "68d879c3-3341-47f9-94f9-a759a205e1af"
      },
      "execution_count": null,
      "outputs": [
        {
          "output_type": "stream",
          "name": "stdout",
          "text": [
            "Model: \"functional_api\"\n",
            "__________________________________________________________________________________________________\n",
            " Layer (type)                   Output Shape         Param #     Connected to                     \n",
            "==================================================================================================\n",
            " hij_inputs (InputLayer)        [(None, 5, 5)]       0           []                               \n",
            "                                                                                                  \n",
            " flatten_layer_hij (Flatten)    (None, 25)           0           ['hij_inputs[0][0]']             \n",
            "                                                                                                  \n",
            " dense_layer_1 (Dense)          (None, 50)           1300        ['flatten_layer_hij[0][0]']      \n",
            "                                                                                                  \n",
            " batch_norm_layer_1 (BatchNorma  (None, 50)          200         ['dense_layer_1[0][0]']          \n",
            " lization)                                                                                        \n",
            "                                                                                                  \n",
            " dense_layer_2 (Dense)          (None, 25)           1275        ['batch_norm_layer_1[0][0]']     \n",
            "                                                                                                  \n",
            " A_inv_inputs (InputLayer)      [(None, 5, 5)]       0           []                               \n",
            "                                                                                                  \n",
            " b_inputs (InputLayer)          [(None, 5, 1)]       0           []                               \n",
            "                                                                                                  \n",
            " batch_norm_layer_2 (BatchNorma  (None, 25)          100         ['dense_layer_2[0][0]']          \n",
            " lization)                                                                                        \n",
            "                                                                                                  \n",
            " flatten_layer_A_inv (Flatten)  (None, 25)           0           ['A_inv_inputs[0][0]']           \n",
            "                                                                                                  \n",
            " flatten_layer_b (Flatten)      (None, 5)            0           ['b_inputs[0][0]']               \n",
            "                                                                                                  \n",
            " meu (Dense)                    (None, 5)            130         ['batch_norm_layer_2[0][0]']     \n",
            "                                                                                                  \n",
            " lambda_layer (Lambda)          (None, 5, 1)         0           ['flatten_layer_A_inv[0][0]',    \n",
            "                                                                  'flatten_layer_b[0][0]',        \n",
            "                                                                  'meu[0][0]']                    \n",
            "                                                                                                  \n",
            " flatten_layer_output (Flatten)  (None, 5)           0           ['lambda_layer[0][0]']           \n",
            "                                                                                                  \n",
            "==================================================================================================\n",
            "Total params: 3,005\n",
            "Trainable params: 2,855\n",
            "Non-trainable params: 150\n",
            "__________________________________________________________________________________________________\n"
          ]
        }
      ]
    },
    {
      "cell_type": "code",
      "source": [
        "# # https://stackoverflow.com/questions/41711190/keras-how-to-get-the-output-of-each-layer\n",
        "# # from tensorflow.keras import backend as bk\n",
        "# from keras.api._v2.keras import backend\n",
        "\n",
        "# print(model.inputs)\n",
        "# print(model.outputs)\n",
        "# model.layers[10].output"
      ],
      "metadata": {
        "id": "mpNrIP58VxqB"
      },
      "execution_count": null,
      "outputs": []
    },
    {
      "cell_type": "code",
      "source": [
        "## Plot the model as a graph\n",
        "keras.utils.plot_model(model, \"Functional_API_Model.png\")"
      ],
      "metadata": {
        "id": "FOA7BGUlti-M",
        "colab": {
          "base_uri": "https://localhost:8080/",
          "height": 856
        },
        "outputId": "479dd43d-6334-4cf6-a5a2-b4c3e6048386"
      },
      "execution_count": null,
      "outputs": [
        {
          "output_type": "execute_result",
          "data": {
            "image/png": "[encoded data removed]",
            "text/plain": [
              "<IPython.core.display.Image object>"
            ]
          },
          "metadata": {},
          "execution_count": 55
        }
      ]
    },
    {
      "cell_type": "code",
      "source": [
        "## Display the input and output shapes of each layer\n",
        "keras.utils.plot_model(model, \"Functional_API_Model_with_shape_info.png\", show_shapes=True)"
      ],
      "metadata": {
        "id": "vWcXGiwttoGC",
        "colab": {
          "base_uri": "https://localhost:8080/",
          "height": 938
        },
        "outputId": "ba80a359-6b25-4b4c-8096-2bcbec38a54a"
      },
      "execution_count": null,
      "outputs": [
        {
          "output_type": "execute_result",
          "data": {
            "image/png": "[encoded data removed]",
            "text/plain": [
              "<IPython.core.display.Image object>"
            ]
          },
          "metadata": {},
          "execution_count": 56
        }
      ]
    },
    {
      "cell_type": "code",
      "source": [
        "## Convert sigma_sqr_noise from numpy array to tensor\n",
        "sigma_sqr_noise_t = tf.convert_to_tensor(sigma_sqr_noise, dtype = float)\n",
        "tf.print(sigma_sqr_noise_t)"
      ],
      "metadata": {
        "colab": {
          "base_uri": "https://localhost:8080/"
        },
        "id": "8aEUqb1cSdrO",
        "outputId": "e5d5dd1f-b38f-449f-f752-0a16f700b915"
      },
      "execution_count": null,
      "outputs": [
        {
          "output_type": "stream",
          "name": "stdout",
          "text": [
            "[0.1 0.1 0.1 0.1 0.1]\n"
          ]
        }
      ]
    },
    {
      "cell_type": "code",
      "source": [
        "## The customized loss function\n",
        "def custom_loss(y_true, y_pred):\n",
        "  # p = y_pred\n",
        "  p = tf.math.multiply(p_max, y_pred)\n",
        "  hij = tf.reshape(y_true[:,0:K*K], (-1,K,K))\n",
        "  hij_abs_sqr = tf.math.square(tf.math.abs(hij))\n",
        "\n",
        "  R_P = 0.0\n",
        "  for i in range(K):  # Total rows\n",
        "    ph = 0.0\n",
        "    for j in range(K):  # Total columns\n",
        "      ph_j = tf.math.multiply(p[:,j], hij_abs_sqr[:,i,j])\n",
        "      ph = tf.math.add(ph, ph_j)\n",
        "    \n",
        "    numr = tf.math.multiply(p[:,i], hij_abs_sqr[:,i,i])\n",
        "    dnumr = tf.math.add(sigma_sqr_noise_t[i], tf.math.subtract(ph, numr))\n",
        "    SINR_i = tf.math.divide(numr, dnumr)\n",
        "    R_P = tf.math.add(R_P, (tf.math.log(1 + SINR_i)/tf.math.log(2.0)))\n",
        "  \n",
        "  loss = -R_P\n",
        "  loss = tf.reduce_mean(loss) # batch mean\n",
        "  return loss"
      ],
      "metadata": {
        "id": "doMYxcrfQ6jh"
      },
      "execution_count": null,
      "outputs": []
    },
    {
      "cell_type": "code",
      "source": [
        "## Build and compile the DNN model\n",
        "## Training and Testing\n",
        "# https://stackoverflow.com/questions/37232782/nan-loss-when-training-regression-network\n",
        "import matplotlib.pyplot as plt\n",
        "\n",
        "optA = tf.keras.optimizers.Adam(learning_rate = 0.0001)\n",
        "model.compile(optimizer = optA, loss = custom_loss)\n",
        "\n",
        "train_input = [train_input_F_H, train_input_A_inv, train_input_b]\n",
        "valid_input = [valid_input_F_H, valid_input_A_inv, valid_input_b]\n",
        "\n",
        "history = model.fit(train_input, train_input_F_H, epochs = 100, validation_data = (valid_input, valid_input_F_H), batch_size = 1000)\n",
        "\n",
        "plt.plot(history.epoch, history.history['loss'], color = \"blue\", label = \"Training\")\n",
        "plt.plot(history.epoch, history.history['val_loss'], color=\"black\", label = \"Validation\")\n",
        "plt.xlabel(\"epochs\")\n",
        "plt.ylabel(\"loss\")\n",
        "plt.legend()\n",
        "plt.show()"
      ],
      "metadata": {
        "colab": {
          "base_uri": "https://localhost:8080/",
          "height": 1000
        },
        "id": "VFP_5h2wt3ri",
        "outputId": "de7eeb17-dd7e-48ca-f89b-47787b53c27b"
      },
      "execution_count": null,
      "outputs": [
        {
          "output_type": "stream",
          "name": "stdout",
          "text": [
            "Epoch 1/100\n",
            "206/206 [==============================] - 3s 8ms/step - loss: -2.3201 - val_loss: -2.4075\n",
            "Epoch 2/100\n",
            "206/206 [==============================] - 1s 5ms/step - loss: -2.4994 - val_loss: -2.5874\n",
            "Epoch 3/100\n",
            "206/206 [==============================] - 1s 4ms/step - loss: -2.6479 - val_loss: -2.7216\n",
            "Epoch 4/100\n",
            "206/206 [==============================] - 1s 5ms/step - loss: -2.7660 - val_loss: -2.8160\n",
            "Epoch 5/100\n",
            "206/206 [==============================] - 1s 4ms/step - loss: -2.8577 - val_loss: -2.8944\n",
            "Epoch 6/100\n",
            "206/206 [==============================] - 1s 4ms/step - loss: -2.9320 - val_loss: -2.9621\n",
            "Epoch 7/100\n",
            "206/206 [==============================] - 1s 5ms/step - loss: -2.9899 - val_loss: -3.0141\n",
            "Epoch 8/100\n",
            "206/206 [==============================] - 1s 5ms/step - loss: -3.0322 - val_loss: -3.0493\n",
            "Epoch 9/100\n",
            "206/206 [==============================] - 1s 5ms/step - loss: -3.0619 - val_loss: -3.0743\n",
            "Epoch 10/100\n",
            "206/206 [==============================] - 1s 5ms/step - loss: -3.0827 - val_loss: -3.0910\n",
            "Epoch 11/100\n",
            "206/206 [==============================] - 1s 6ms/step - loss: -3.0975 - val_loss: -3.1031\n",
            "Epoch 12/100\n",
            "206/206 [==============================] - 1s 7ms/step - loss: -3.1086 - val_loss: -3.1124\n",
            "Epoch 13/100\n",
            "206/206 [==============================] - 1s 5ms/step - loss: -3.1172 - val_loss: -3.1194\n",
            "Epoch 14/100\n",
            "206/206 [==============================] - 1s 5ms/step - loss: -3.1241 - val_loss: -3.1255\n",
            "Epoch 15/100\n",
            "206/206 [==============================] - 1s 5ms/step - loss: -3.1299 - val_loss: -3.1310\n",
            "Epoch 16/100\n",
            "206/206 [==============================] - 1s 5ms/step - loss: -3.1350 - val_loss: -3.1357\n",
            "Epoch 17/100\n",
            "206/206 [==============================] - 1s 5ms/step - loss: -3.1397 - val_loss: -3.1398\n",
            "Epoch 18/100\n",
            "206/206 [==============================] - 1s 5ms/step - loss: -3.1440 - val_loss: -3.1436\n",
            "Epoch 19/100\n",
            "206/206 [==============================] - 1s 5ms/step - loss: -3.1480 - val_loss: -3.1474\n",
            "Epoch 20/100\n",
            "206/206 [==============================] - 1s 5ms/step - loss: -3.1517 - val_loss: -3.1510\n",
            "Epoch 21/100\n",
            "206/206 [==============================] - 1s 5ms/step - loss: -3.1553 - val_loss: -3.1541\n",
            "Epoch 22/100\n",
            "206/206 [==============================] - 1s 5ms/step - loss: -3.1587 - val_loss: -3.1571\n",
            "Epoch 23/100\n",
            "206/206 [==============================] - 1s 6ms/step - loss: -3.1616 - val_loss: -3.1598\n",
            "Epoch 24/100\n",
            "206/206 [==============================] - 1s 6ms/step - loss: -3.1643 - val_loss: -3.1625\n",
            "Epoch 25/100\n",
            "206/206 [==============================] - 1s 5ms/step - loss: -3.1666 - val_loss: -3.1648\n",
            "Epoch 26/100\n",
            "206/206 [==============================] - 1s 5ms/step - loss: -3.1689 - val_loss: -3.1668\n",
            "Epoch 27/100\n",
            "206/206 [==============================] - 1s 5ms/step - loss: -3.1708 - val_loss: -3.1688\n",
            "Epoch 28/100\n",
            "206/206 [==============================] - 1s 5ms/step - loss: -3.1726 - val_loss: -3.1706\n",
            "Epoch 29/100\n",
            "206/206 [==============================] - 1s 5ms/step - loss: -3.1742 - val_loss: -3.1722\n",
            "Epoch 30/100\n",
            "206/206 [==============================] - 1s 5ms/step - loss: -3.1758 - val_loss: -3.1738\n",
            "Epoch 31/100\n",
            "206/206 [==============================] - 1s 5ms/step - loss: -3.1775 - val_loss: -3.1753\n",
            "Epoch 32/100\n",
            "206/206 [==============================] - 1s 5ms/step - loss: -3.1790 - val_loss: -3.1767\n",
            "Epoch 33/100\n",
            "206/206 [==============================] - 1s 5ms/step - loss: -3.1802 - val_loss: -3.1782\n",
            "Epoch 34/100\n",
            "206/206 [==============================] - 1s 6ms/step - loss: -3.1817 - val_loss: -3.1796\n",
            "Epoch 35/100\n",
            "206/206 [==============================] - 1s 5ms/step - loss: -3.1832 - val_loss: -3.1808\n",
            "Epoch 36/100\n",
            "206/206 [==============================] - 1s 5ms/step - loss: -3.1844 - val_loss: -3.1822\n",
            "Epoch 37/100\n",
            "206/206 [==============================] - 1s 5ms/step - loss: -3.1857 - val_loss: -3.1831\n",
            "Epoch 38/100\n",
            "206/206 [==============================] - 1s 5ms/step - loss: -3.1868 - val_loss: -3.1845\n",
            "Epoch 39/100\n",
            "206/206 [==============================] - 1s 5ms/step - loss: -3.1879 - val_loss: -3.1856\n",
            "Epoch 40/100\n",
            "206/206 [==============================] - 1s 5ms/step - loss: -3.1891 - val_loss: -3.1868\n",
            "Epoch 41/100\n",
            "206/206 [==============================] - 1s 4ms/step - loss: -3.1902 - val_loss: -3.1876\n",
            "Epoch 42/100\n",
            "206/206 [==============================] - 1s 5ms/step - loss: -3.1911 - val_loss: -3.1887\n",
            "Epoch 43/100\n",
            "206/206 [==============================] - 1s 5ms/step - loss: -3.1920 - val_loss: -3.1894\n",
            "Epoch 44/100\n",
            "206/206 [==============================] - 1s 5ms/step - loss: -3.1929 - val_loss: -3.1903\n",
            "Epoch 45/100\n",
            "206/206 [==============================] - 1s 6ms/step - loss: -3.1937 - val_loss: -3.1912\n",
            "Epoch 46/100\n",
            "206/206 [==============================] - 1s 6ms/step - loss: -3.1945 - val_loss: -3.1919\n",
            "Epoch 47/100\n",
            "206/206 [==============================] - 1s 5ms/step - loss: -3.1952 - val_loss: -3.1926\n",
            "Epoch 48/100\n",
            "206/206 [==============================] - 1s 5ms/step - loss: -3.1961 - val_loss: -3.1934\n",
            "Epoch 49/100\n",
            "206/206 [==============================] - 1s 5ms/step - loss: -3.1968 - val_loss: -3.1940\n",
            "Epoch 50/100\n",
            "206/206 [==============================] - 1s 5ms/step - loss: -3.1973 - val_loss: -3.1946\n",
            "Epoch 51/100\n",
            "206/206 [==============================] - 1s 5ms/step - loss: -3.1981 - val_loss: -3.1953\n",
            "Epoch 52/100\n",
            "206/206 [==============================] - 1s 5ms/step - loss: -3.1986 - val_loss: -3.1960\n",
            "Epoch 53/100\n",
            "206/206 [==============================] - 1s 5ms/step - loss: -3.1993 - val_loss: -3.1966\n",
            "Epoch 54/100\n",
            "206/206 [==============================] - 1s 5ms/step - loss: -3.1998 - val_loss: -3.1971\n",
            "Epoch 55/100\n",
            "206/206 [==============================] - 1s 5ms/step - loss: -3.2005 - val_loss: -3.1978\n",
            "Epoch 56/100\n",
            "206/206 [==============================] - 1s 6ms/step - loss: -3.2011 - val_loss: -3.1983\n",
            "Epoch 57/100\n",
            "206/206 [==============================] - 1s 6ms/step - loss: -3.2016 - val_loss: -3.1990\n",
            "Epoch 58/100\n",
            "206/206 [==============================] - 1s 5ms/step - loss: -3.2021 - val_loss: -3.1995\n",
            "Epoch 59/100\n",
            "206/206 [==============================] - 1s 5ms/step - loss: -3.2028 - val_loss: -3.2001\n",
            "Epoch 60/100\n",
            "206/206 [==============================] - 1s 5ms/step - loss: -3.2032 - val_loss: -3.2005\n",
            "Epoch 61/100\n",
            "206/206 [==============================] - 1s 4ms/step - loss: -3.2038 - val_loss: -3.2010\n",
            "Epoch 62/100\n",
            "206/206 [==============================] - 1s 5ms/step - loss: -3.2043 - val_loss: -3.2017\n",
            "Epoch 63/100\n",
            "206/206 [==============================] - 1s 5ms/step - loss: -3.2048 - val_loss: -3.2021\n",
            "Epoch 64/100\n",
            "206/206 [==============================] - 1s 5ms/step - loss: -3.2053 - val_loss: -3.2027\n",
            "Epoch 65/100\n",
            "206/206 [==============================] - 1s 5ms/step - loss: -3.2059 - val_loss: -3.2032\n",
            "Epoch 66/100\n",
            "206/206 [==============================] - 1s 4ms/step - loss: -3.2063 - val_loss: -3.2036\n",
            "Epoch 67/100\n",
            "206/206 [==============================] - 1s 6ms/step - loss: -3.2069 - val_loss: -3.2041\n",
            "Epoch 68/100\n",
            "206/206 [==============================] - 1s 6ms/step - loss: -3.2075 - val_loss: -3.2047\n",
            "Epoch 69/100\n",
            "206/206 [==============================] - 1s 5ms/step - loss: -3.2079 - val_loss: -3.2051\n",
            "Epoch 70/100\n",
            "206/206 [==============================] - 1s 5ms/step - loss: -3.2085 - val_loss: -3.2056\n",
            "Epoch 71/100\n",
            "206/206 [==============================] - 1s 5ms/step - loss: -3.2089 - val_loss: -3.2061\n",
            "Epoch 72/100\n",
            "206/206 [==============================] - 1s 5ms/step - loss: -3.2094 - val_loss: -3.2066\n",
            "Epoch 73/100\n",
            "206/206 [==============================] - 1s 5ms/step - loss: -3.2097 - val_loss: -3.2067\n",
            "Epoch 74/100\n",
            "206/206 [==============================] - 1s 5ms/step - loss: -3.2103 - val_loss: -3.2075\n",
            "Epoch 75/100\n",
            "206/206 [==============================] - 1s 5ms/step - loss: -3.2107 - val_loss: -3.2081\n",
            "Epoch 76/100\n",
            "206/206 [==============================] - 1s 5ms/step - loss: -3.2113 - val_loss: -3.2083\n",
            "Epoch 77/100\n",
            "206/206 [==============================] - 1s 5ms/step - loss: -3.2117 - val_loss: -3.2089\n",
            "Epoch 78/100\n",
            "206/206 [==============================] - 1s 5ms/step - loss: -3.2121 - val_loss: -3.2091\n",
            "Epoch 79/100\n",
            "206/206 [==============================] - 1s 7ms/step - loss: -3.2125 - val_loss: -3.2095\n",
            "Epoch 80/100\n",
            "206/206 [==============================] - 1s 5ms/step - loss: -3.2129 - val_loss: -3.2102\n",
            "Epoch 81/100\n",
            "206/206 [==============================] - 1s 5ms/step - loss: -3.2135 - val_loss: -3.2108\n",
            "Epoch 82/100\n",
            "206/206 [==============================] - 1s 5ms/step - loss: -3.2139 - val_loss: -3.2108\n",
            "Epoch 83/100\n",
            "206/206 [==============================] - 1s 5ms/step - loss: -3.2145 - val_loss: -3.2116\n",
            "Epoch 84/100\n",
            "206/206 [==============================] - 1s 4ms/step - loss: -3.2148 - val_loss: -3.2120\n",
            "Epoch 85/100\n",
            "206/206 [==============================] - 1s 5ms/step - loss: -3.2153 - val_loss: -3.2125\n",
            "Epoch 86/100\n",
            "206/206 [==============================] - 1s 5ms/step - loss: -3.2158 - val_loss: -3.2130\n",
            "Epoch 87/100\n",
            "206/206 [==============================] - 1s 5ms/step - loss: -3.2162 - val_loss: -3.2134\n",
            "Epoch 88/100\n",
            "206/206 [==============================] - 1s 5ms/step - loss: -3.2167 - val_loss: -3.2137\n",
            "Epoch 89/100\n",
            "206/206 [==============================] - 1s 5ms/step - loss: -3.2171 - val_loss: -3.2143\n",
            "Epoch 90/100\n",
            "206/206 [==============================] - 1s 6ms/step - loss: -3.2174 - val_loss: -3.2147\n",
            "Epoch 91/100\n",
            "206/206 [==============================] - 1s 5ms/step - loss: -3.2179 - val_loss: -3.2150\n",
            "Epoch 92/100\n",
            "206/206 [==============================] - 1s 4ms/step - loss: -3.2182 - val_loss: -3.2155\n",
            "Epoch 93/100\n",
            "206/206 [==============================] - 1s 5ms/step - loss: -3.2187 - val_loss: -3.2157\n",
            "Epoch 94/100\n",
            "206/206 [==============================] - 1s 5ms/step - loss: -3.2189 - val_loss: -3.2162\n",
            "Epoch 95/100\n",
            "206/206 [==============================] - 1s 5ms/step - loss: -3.2193 - val_loss: -3.2167\n",
            "Epoch 96/100\n",
            "206/206 [==============================] - 1s 5ms/step - loss: -3.2198 - val_loss: -3.2169\n",
            "Epoch 97/100\n",
            "206/206 [==============================] - 1s 5ms/step - loss: -3.2200 - val_loss: -3.2175\n",
            "Epoch 98/100\n",
            "206/206 [==============================] - 1s 5ms/step - loss: -3.2205 - val_loss: -3.2179\n",
            "Epoch 99/100\n",
            "206/206 [==============================] - 1s 5ms/step - loss: -3.2208 - val_loss: -3.2183\n",
            "Epoch 100/100\n",
            "206/206 [==============================] - 1s 5ms/step - loss: -3.2211 - val_loss: -3.2185\n"
          ]
        },
        {
          "output_type": "display_data",
          "data": {
            "text/plain": [
              "<Figure size 432x288 with 1 Axes>"
            ],
            "image/png": "[encoded data removed]"
          },
          "metadata": {
            "needs_background": "light"
          }
        }
      ]
    },
    {
      "cell_type": "code",
      "source": [
        "## Constraint violation probability and\n",
        "## finding indexes of test_input_F_H matrix with the hij set that do not satisfy\n",
        "## constraint on the minimum SINR_P_min rate but satisfy the maximum transmit\n",
        "## power p_max\n",
        "\n",
        "test_input = [test_input_F_H, test_input_A_inv, test_input_b]\n",
        "# output_P_hat_temp = model.predict(test_input)\n",
        "output_P_hat_temp = np.multiply(p_max, model.predict(test_input))\n",
        "output_P_hat = output_P_hat_temp.reshape((output_P_hat_temp.shape[0], output_P_hat_temp.shape[1], 1)) # test_input_F_H_size X row X column\n",
        "output_P_hat_size = output_P_hat.shape[0]\n",
        "test_data_F_H_abs_sqr = cmplx_abs_sqr(test_data_F_H)\n",
        "\n",
        "indx_n = []\n",
        "count_v = 0\n",
        "\n",
        "for k in range(output_P_hat_size):\n",
        "  for i in range(K):  # Total rows\n",
        "    ph = 0\n",
        "    for j in range(K):  # Total columns\n",
        "      ph_j = np.multiply(output_P_hat[k,j], test_data_F_H_abs_sqr[k,i,j])\n",
        "      ph = ph + ph_j\n",
        "    \n",
        "    numr = np.multiply(output_P_hat[k,i], test_data_F_H_abs_sqr[k,i,i])\n",
        "    dnumr = sigma_sqr_noise[i] + ph - numr\n",
        "    SINR_out = np.divide(numr, dnumr)\n",
        "    \n",
        "    if np.round(SINR_out, decimals= 3) < SINR_P_min[i]:\n",
        "      indx_n.append(k)\n",
        "      count_v = count_v + 1\n",
        "      # print(SINR_out)\n",
        "      break\n",
        "\n",
        "violation_prb = (count_v / output_P_hat_size) * 100\n",
        "print(\"Constraints Violation Probability: {:.2f}%\".format(violation_prb))\n",
        "# print(len(indx_n))\n",
        "# print(indx_n)"
      ],
      "metadata": {
        "id": "TppB89ypt7gC",
        "colab": {
          "base_uri": "https://localhost:8080/"
        },
        "outputId": "f23abb8c-abc5-4908-ac40-c718f52b2d03"
      },
      "execution_count": null,
      "outputs": [
        {
          "output_type": "stream",
          "name": "stdout",
          "text": [
            "782/782 [==============================] - 1s 1ms/step\n",
            "Constraints Violation Probability: 94.93%\n"
          ]
        }
      ]
    },
    {
      "cell_type": "code",
      "source": [
        "## Finding indexes of test_input_F_H matrix that satisfy constraints on both the \n",
        "## minimum SINR_P_min rate and the maximum transmit power Pmax\n",
        "i = 0\n",
        "indx_q = []\n",
        "\n",
        "for k in range(output_P_hat_size):\n",
        "  if k == indx_n[i]:\n",
        "    i = i +1\n",
        "    if  i == len(indx_n):\n",
        "      i = i - 1\n",
        "  else:\n",
        "    indx_q.append(k)\n",
        "\n",
        "print(len(indx_q))\n",
        "# print(indx_q)"
      ],
      "metadata": {
        "id": "2WE_UJofHvoy",
        "colab": {
          "base_uri": "https://localhost:8080/"
        },
        "outputId": "f78a6b8e-771e-426e-d6eb-946fd48ba86c"
      },
      "execution_count": null,
      "outputs": [
        {
          "output_type": "stream",
          "name": "stdout",
          "text": [
            "1267\n"
          ]
        }
      ]
    },
    {
      "cell_type": "code",
      "source": [
        "## H of test_input_F_H matrix that satisfy both constraint on the minimum\n",
        "## SINR_P_min rate and p_max\n",
        "Q_H_size = len(indx_q)\n",
        "Q_H = np.empty((Q_H_size, K, K), dtype = complex, order = 'C')\n",
        "\n",
        "for i in range(Q_H_size):\n",
        "  j = indx_q[i]\n",
        "  Q_H[i] = test_input_F_H[j]\n",
        "\n",
        "print(Q_H.shape)\n",
        "# print(Q_H)"
      ],
      "metadata": {
        "id": "8FRpS_AEFBZO",
        "colab": {
          "base_uri": "https://localhost:8080/"
        },
        "outputId": "ecc32c06-0a42-49aa-a665-d2e7449a7c0f"
      },
      "execution_count": null,
      "outputs": [
        {
          "output_type": "stream",
          "name": "stdout",
          "text": [
            "(1267, 5, 5)\n"
          ]
        }
      ]
    },
    {
      "cell_type": "code",
      "source": [
        "##  P_Hat of output_P_hat matrix that satisfy both constraint on the minimum\n",
        "## SINR_P_min rate and p_max\n",
        "Q_P_Hat = np.empty((Q_H_size, K, 1), dtype = float, order = 'C')\n",
        "\n",
        "for i in range(Q_H_size):\n",
        "  j = indx_q[i]\n",
        "  Q_P_Hat[i] = output_P_hat[j]\n",
        "\n",
        "print(Q_P_Hat.shape)\n",
        "# print(Q_P_Hat)"
      ],
      "metadata": {
        "id": "R0cEtLFFGKhj",
        "colab": {
          "base_uri": "https://localhost:8080/"
        },
        "outputId": "85613664-72fc-4dbe-df5a-6eeb894117fb"
      },
      "execution_count": null,
      "outputs": [
        {
          "output_type": "stream",
          "name": "stdout",
          "text": [
            "(1267, 5, 1)\n"
          ]
        }
      ]
    },
    {
      "cell_type": "code",
      "source": [
        "## Function to calculate the average sum rate\n",
        "# Here, p_model is the output of DNN, and it is a 2D array.\n",
        "import math\n",
        "\n",
        "def average_sum_rate(hij, p_model, sigma_sqr_noise, K):\n",
        "  R = 0\n",
        "  hij_size = hij.shape[0]\n",
        "  hij_abs_sqr = cmplx_abs_sqr(hij)\n",
        "\n",
        "  for k in range(hij_size):\n",
        "    for i in range(K):  # Total rows\n",
        "      phn = 0\n",
        "      for j in range(K):  # Total columns\n",
        "        phn_j = np.multiply(p_model[k,j], hij_abs_sqr[k,i,j])\n",
        "        phn = phn + phn_j\n",
        "      \n",
        "      numr_s = np.multiply(p_model[k,i], hij_abs_sqr[k,i,i])\n",
        "      dnumr_s = sigma_sqr_noise[i] + phn - numr_s\n",
        "      R_temp = math.log2(1 + np.divide(numr_s, dnumr_s))\n",
        "      R = R + R_temp\n",
        "  \n",
        "  return (R/hij_size)"
      ],
      "metadata": {
        "id": "Sj6wlXCWuAgS"
      },
      "execution_count": null,
      "outputs": []
    },
    {
      "cell_type": "code",
      "source": [
        "# DNN Sum Rate for test_data_F_H\n",
        "sumrate_F_H = average_sum_rate(test_data_F_H, output_P_hat, sigma_sqr_noise, K)\n",
        "print(\"Average Sum Rate for all H matrices: {:.2f} Bit/Second/Hertz\".format(sumrate_F_H))"
      ],
      "metadata": {
        "id": "uRAZY_RBuCI-",
        "colab": {
          "base_uri": "https://localhost:8080/"
        },
        "outputId": "4f5e7592-1f32-474b-8e7a-fc42f191f9d0"
      },
      "execution_count": null,
      "outputs": [
        {
          "output_type": "stream",
          "name": "stdout",
          "text": [
            "Average Sum Rate for all H matrices: 3.21 Bit/Second/Hertz\n"
          ]
        }
      ]
    },
    {
      "cell_type": "code",
      "source": [
        "## DNN Sum Rate for only Q_H\n",
        "sumrate_Q_H = average_sum_rate(Q_H, Q_P_Hat, sigma_sqr_noise, K)\n",
        "print(\"Average Sum Rate for desired H matrices only: {:.2f} Bit/Second/Hertz\".format(sumrate_Q_H))"
      ],
      "metadata": {
        "id": "twk0rHkcIfj0",
        "colab": {
          "base_uri": "https://localhost:8080/"
        },
        "outputId": "1ff8db11-e175-4e52-dfc0-e00cf1eeddb8"
      },
      "execution_count": null,
      "outputs": [
        {
          "output_type": "stream",
          "name": "stdout",
          "text": [
            "Average Sum Rate for desired H matrices only: 4.22 Bit/Second/Hertz\n"
          ]
        }
      ]
    },
    {
      "cell_type": "code",
      "source": [
        "## Checking (A_inv x b), i.e., the power for negative values\n",
        "count_n = 0\n",
        "for c in range(output_P_hat_size):\n",
        "  p_temp = np.matmul(test_input_A_inv[c], test_input_b[c])\n",
        "  if np.any(p_temp < 0):\n",
        "    count_n = count_n + 1\n",
        "    print(c,'\\n')\n",
        "    print(p_temp)\n",
        "\n",
        "print(\"Negative power count: \", count_n)"
      ],
      "metadata": {
        "id": "G1JAw6fKjw5u",
        "colab": {
          "base_uri": "https://localhost:8080/"
        },
        "outputId": "da62bafd-e6ed-462e-8f10-99f8797360c5"
      },
      "execution_count": null,
      "outputs": [
        {
          "output_type": "stream",
          "name": "stdout",
          "text": [
            "Negative power count:  0\n"
          ]
        }
      ]
    },
    {
      "cell_type": "code",
      "source": [
        "## Checking P_hat, i.e., the power for test_data_F_H for negative values\n",
        "## and Heat Rate i.e. percentage for 0 <= P_hat <= p_max\n",
        "count_p = 0\n",
        "count_n = 0\n",
        "\n",
        "for n in range(output_P_hat_size):\n",
        "  P_max = np.amax(output_P_hat[n])\n",
        "  if np.round(P_max, decimals = 3) <= 1:\n",
        "    count_p = count_p + 1\n",
        "  \n",
        "  if np.any(output_P_hat[n] < 0):\n",
        "    count_n = count_n + 1\n",
        "    print(n,'\\n')\n",
        "    print(output_P_hat)\n",
        "\n",
        "p_heat_rate = (count_p / output_P_hat_size) * 100\n",
        "print(\"Heat Rate for Power : {:.2f}%\".format(p_heat_rate))\n",
        "print(\"Negative power count: \", count_n)"
      ],
      "metadata": {
        "id": "BHZkmotV2NTz",
        "colab": {
          "base_uri": "https://localhost:8080/"
        },
        "outputId": "22cdc090-7b0d-43cf-ac27-153b9aefd3cf"
      },
      "execution_count": null,
      "outputs": [
        {
          "output_type": "stream",
          "name": "stdout",
          "text": [
            "Heat Rate for Power : 100.00%\n",
            "Negative power count:  0\n"
          ]
        }
      ]
    }
  ]
}