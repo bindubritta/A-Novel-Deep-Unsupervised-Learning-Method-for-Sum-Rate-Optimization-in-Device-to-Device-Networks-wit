{
  "nbformat": 4,
  "nbformat_minor": 0,
  "metadata": {
    "colab": {
      "provenance": []
    },
    "kernelspec": {
      "name": "python3",
      "display_name": "Python 3"
    },
    "language_info": {
      "name": "python"
    },
    "gpuClass": "standard"
  },
  "cells": [
    {
      "cell_type": "markdown",
      "source": [
        "**3. Codes for analyzing the Proposed Model**"
      ],
      "metadata": {
        "id": "dp0eV7rtKFFR"
      }
    },
    {
      "cell_type": "markdown",
      "source": [
        "**3.1 For training with a given background noise power**"
      ],
      "metadata": {
        "id": "Qb9Rmt8Y-DLW"
      }
    },
    {
      "cell_type": "code",
      "source": [
        "import numpy as np\n",
        "\n",
        "## Number of transmitter-receiver pairs\n",
        "K = 5\n",
        "\n",
        "## Variances for noise signals\n",
        "sigma_sqr_noise = np.array([1e-0, 1e-0, 1e-0, 1e-0, 1e-0], dtype = float)\n",
        "\n",
        "## Minimum rate for the achievable SINR of multiple concurrent transmissions\n",
        "SINR_P_min = np.array([0.5, 0.5, 0.5, 0.5, 0.5])\n",
        "\n",
        "## Maximum transmit power\n",
        "p_max = 1.0"
      ],
      "metadata": {
        "id": "s7p8E3GvOucd"
      },
      "execution_count": null,
      "outputs": []
    },
    {
      "cell_type": "code",
      "source": [
        "## Loading a NumPy array from a CSV file\n",
        "# Loading F_H array from a CSV file\n",
        "from numpy import loadtxt\n",
        "\n",
        "## Reading an array from the file\n",
        "# If we want to read a file from our local drive, we have to first upload it to Collab's session storage.\n",
        "F_H_2D_L = np.loadtxt('F_H_2D.csv', delimiter = ',', dtype = str)\n",
        "\n",
        "## Reshaping the array from 2D to 3D\n",
        "F_H_3D = F_H_2D_L.reshape(F_H_2D_L.shape[0], F_H_2D_L.shape[1] // K, K)\n",
        "F_H_3D_size = F_H_3D.shape[0]"
      ],
      "metadata": {
        "id": "6wSz2ELCoUAz"
      },
      "execution_count": null,
      "outputs": []
    },
    {
      "cell_type": "code",
      "source": [
        "## Converting string data to complex data and removing the initial whitespace\n",
        "F_H_list = []\n",
        "for k in range(F_H_3D_size):\n",
        "  for i in range(K):  # Total rows\n",
        "    for j in range(K):  # Total columns\n",
        "      F_H_temp = complex(F_H_3D[k][i][j].strip())\n",
        "      F_H_list.append(F_H_temp)\n",
        "F_H_array = np.array(F_H_list)\n",
        "F_H = F_H_array.reshape((F_H_3D_size, K, K)) # H_size X row X column_count\n",
        "print(F_H.shape)\n",
        "F_H_size = F_H.shape[0]\n",
        "# print(F_H)"
      ],
      "metadata": {
        "id": "GBpEySUjofeO",
        "colab": {
          "base_uri": "https://localhost:8080/"
        },
        "outputId": "ff5a1c6c-aa3f-4409-cbe6-c9ab4ded214b"
      },
      "execution_count": null,
      "outputs": [
        {
          "output_type": "stream",
          "name": "stdout",
          "text": [
            "(250005, 5, 5)\n"
          ]
        }
      ]
    },
    {
      "cell_type": "code",
      "source": [
        "import numba as nb\n",
        "\n",
        "## Function to compute the square of the absolute value of an array of complex numbers\n",
        "@nb.vectorize([nb.float64(nb.complex128),nb.float32(nb.complex64)])\n",
        "def cmplx_abs_sqr(cmplx_var):\n",
        "  return cmplx_var.real**2 + cmplx_var.imag**2"
      ],
      "metadata": {
        "id": "Fx9vomtzPuQR"
      },
      "execution_count": null,
      "outputs": []
    },
    {
      "cell_type": "code",
      "source": [
        "## Function to generate the matrix A (K x K)\n",
        "def generate_A(F_H_size, K, SINR_P_min, F_H):\n",
        "  Aij_list = []\n",
        "  F_H_abs_sqr = cmplx_abs_sqr(F_H)\n",
        "\n",
        "  for k in range(F_H_size):\n",
        "    for i in range(K):  # Total rows\n",
        "      Aj_list =[]\n",
        "      for j in range(K): # Total columns\n",
        "        if i==j:\n",
        "          A = F_H_abs_sqr[k,i,j]\n",
        "        else:\n",
        "          A = np.multiply(-SINR_P_min[i], F_H_abs_sqr[k,i,j])\n",
        "        Aj_list.append(A)\n",
        "      Aij_list.append(Aj_list)\n",
        "  Aij_array = np.array(Aij_list)\n",
        "  Aij = Aij_array.reshape((F_H_size, K, K)) # H_size X row X column\n",
        "  return Aij"
      ],
      "metadata": {
        "id": "L8cJY-gXhM1o"
      },
      "execution_count": null,
      "outputs": []
    },
    {
      "cell_type": "code",
      "source": [
        "## Create matrix A\n",
        "A = generate_A(F_H_size, K, SINR_P_min, F_H)\n",
        "print(A.shape)\n",
        "# print(A)"
      ],
      "metadata": {
        "id": "n84VL_CUhQVi",
        "colab": {
          "base_uri": "https://localhost:8080/"
        },
        "outputId": "69b6aff4-2e31-4ee0-b873-efed3e2adfa6"
      },
      "execution_count": null,
      "outputs": [
        {
          "output_type": "stream",
          "name": "stdout",
          "text": [
            "(250005, 5, 5)\n"
          ]
        }
      ]
    },
    {
      "cell_type": "code",
      "source": [
        "## Function to generate the vector b (K x 1)\n",
        "def generate_b(F_H_size, K, SINR_P_min, sigma_sqr_noise, F_H):\n",
        "  bi_list = []\n",
        "  for k in range(F_H_size):\n",
        "    for i in range(K):  # Total rows, i.e., total transmitters\n",
        "      b = np.multiply(SINR_P_min[i], sigma_sqr_noise[i])\n",
        "      bi_list.append(b)\n",
        "  bi_array = np.array(bi_list)\n",
        "  bi = bi_array.reshape((F_H_size, K, 1)) # H_size X row X column\n",
        "  return bi"
      ],
      "metadata": {
        "id": "-6-F2dBOhZrp"
      },
      "execution_count": null,
      "outputs": []
    },
    {
      "cell_type": "code",
      "source": [
        "## Create vector b\n",
        "b = generate_b(F_H_size, K, SINR_P_min, sigma_sqr_noise, F_H)\n",
        "print(b.shape)\n",
        "# print(b)"
      ],
      "metadata": {
        "id": "zybS1lEDhaoU",
        "colab": {
          "base_uri": "https://localhost:8080/"
        },
        "outputId": "38fd8eb7-8e06-4647-e1fb-e3f9bb6fd7a1"
      },
      "execution_count": null,
      "outputs": [
        {
          "output_type": "stream",
          "name": "stdout",
          "text": [
            "(250005, 5, 1)\n"
          ]
        }
      ]
    },
    {
      "cell_type": "code",
      "source": [
        "## Create matrix A_inv, i.e., the pseudo inverse of matrix A\n",
        "A_inv = np.linalg.pinv(A)\n",
        "A_inv[A_inv<0] = 0\n",
        "print(A_inv.shape)\n",
        "# print(A_inv)"
      ],
      "metadata": {
        "id": "2UKeHq34hgj2",
        "colab": {
          "base_uri": "https://localhost:8080/"
        },
        "outputId": "3bd6647a-5ec5-4828-a866-143e523740c8"
      },
      "execution_count": null,
      "outputs": [
        {
          "output_type": "stream",
          "name": "stdout",
          "text": [
            "(250005, 5, 5)\n"
          ]
        }
      ]
    },
    {
      "cell_type": "code",
      "source": [
        "## Create a vector p_hat = (A_inv x b)\n",
        "p_hat = np.matmul(A_inv, b)\n",
        "print(p_hat.shape)\n",
        "# print(p_hat)"
      ],
      "metadata": {
        "id": "eaoUS6EFwQGu",
        "colab": {
          "base_uri": "https://localhost:8080/"
        },
        "outputId": "ce55e8e1-2cac-4c12-c3fe-d630b90de69e"
      },
      "execution_count": null,
      "outputs": [
        {
          "output_type": "stream",
          "name": "stdout",
          "text": [
            "(250005, 5, 1)\n"
          ]
        }
      ]
    },
    {
      "cell_type": "code",
      "source": [
        "## Convert p_max_array to (K x 1) vector\n",
        "p_max_array = np.array([1.0, 1.0, 1.0, 1.0, 1.0], dtype = float)\n",
        "p_max_vector = p_max_array.reshape((K, 1)) # row X column\n",
        "print(p_max_vector)"
      ],
      "metadata": {
        "id": "uBRgwNBgx192",
        "colab": {
          "base_uri": "https://localhost:8080/"
        },
        "outputId": "b94f44d7-1353-4b16-df52-67c7b10368d4"
      },
      "execution_count": null,
      "outputs": [
        {
          "output_type": "stream",
          "name": "stdout",
          "text": [
            "[[1.]\n",
            " [1.]\n",
            " [1.]\n",
            " [1.]\n",
            " [1.]]\n"
          ]
        }
      ]
    },
    {
      "cell_type": "code",
      "source": [
        "## Create a vector X = (p_max_vector - p_hat)\n",
        "X = p_max_vector - p_hat\n",
        "print(X.shape)\n",
        "# print(X)"
      ],
      "metadata": {
        "id": "jKEF6bOyrU-K",
        "colab": {
          "base_uri": "https://localhost:8080/"
        },
        "outputId": "5571abd6-4cd8-42e8-c5df-0bab6f5ce2de"
      },
      "execution_count": null,
      "outputs": [
        {
          "output_type": "stream",
          "name": "stdout",
          "text": [
            "(250005, 5, 1)\n"
          ]
        }
      ]
    },
    {
      "cell_type": "code",
      "source": [
        "## Create a vector beta = MIN[(p_max_vector - p_hat) / A_inv_cv]\n",
        "beta_list = []\n",
        "\n",
        "for k in range(F_H_size):\n",
        "  for i in range(K):  # Total columns\n",
        "    ak = A_inv[k,:,i]\n",
        "    akr = ak.reshape((K, 1)) # row X column\n",
        "    with np.errstate(divide='ignore'):\n",
        "      beta_w = np.where(akr != 0.0, np.divide(X[k], akr), np.inf)\n",
        "      # beta_w = np.divide(X[k], akr)\n",
        "    # beta_w = np.divide(X[k], akr)\n",
        "    beta_min = np.amin(beta_w)\n",
        "    beta_list.append(beta_min)\n",
        "\n",
        "beta_array = np.array(beta_list)\n",
        "beta = beta_array.reshape((F_H_size, K, 1)) # H_size X row X column_count\n",
        "print(beta.shape)\n",
        "beta_size = beta.shape[0]\n",
        "# print(beta)"
      ],
      "metadata": {
        "id": "0yYHOU4Voal2",
        "colab": {
          "base_uri": "https://localhost:8080/"
        },
        "outputId": "f6e2c6ef-86f6-40b7-df1b-0c6401d4277a"
      },
      "execution_count": null,
      "outputs": [
        {
          "output_type": "stream",
          "name": "stdout",
          "text": [
            "(250005, 5, 1)\n"
          ]
        }
      ]
    },
    {
      "cell_type": "code",
      "source": [
        "## Function to split datasets for training, validation, and testing.\n",
        "def split(np_array):\n",
        "  # data_size = np_array.shape[0]\n",
        "  # train_data_size = int(data_size * 0.8)\n",
        "  # valid_data_size = int(data_size * 0.1)\n",
        "  # test_data_size = int(data_size * 0.1)\n",
        "\n",
        "  train_data_size = int(200000)\n",
        "  valid_data_size = int(25000)\n",
        "  test_data_size = int(25000)\n",
        "\n",
        "  train_e_indx = train_data_size\n",
        "  valid_e_indx = train_e_indx + valid_data_size\n",
        "  test_e_indx = valid_e_indx + test_data_size\n",
        "  test_data_size_n = test_e_indx - valid_e_indx\n",
        "\n",
        "  row_count = np_array.shape[1]\n",
        "  column_count = np_array.shape[2]\n",
        "\n",
        "  train_data = np.empty((train_data_size, row_count, column_count), dtype = complex, order = 'C')\n",
        "  valid_data = np.empty((valid_data_size, row_count, column_count), dtype = complex, order = 'C')\n",
        "  test_data = np.empty((test_data_size_n, row_count, column_count), dtype = complex, order = 'C')\n",
        "\n",
        "  for i in range(train_e_indx):\n",
        "    train_data[i] = np_array[i]\n",
        "\n",
        "  xv = 0\n",
        "  for j in range(train_e_indx, valid_e_indx):\n",
        "    valid_data[xv] = np_array[j]\n",
        "    xv = xv + 1\n",
        "\n",
        "  xt = 0\n",
        "  for k in range(valid_e_indx, test_e_indx):\n",
        "    test_data[xt] = np_array[k]\n",
        "    xt = xt + 1\n",
        "\n",
        "  # print(train_data.shape, valid_data.shape, test_data.shape)\n",
        "\n",
        "\n",
        "  ## Training input will be the absolute value\n",
        "  train_input = np.absolute(train_data)\n",
        "  valid_input = np.absolute(valid_data)\n",
        "  test_input = np.absolute(test_data)\n",
        "\n",
        "  print(train_input.shape, valid_input.shape, test_input.shape)\n",
        "\n",
        "  return [train_input, valid_input, test_input, test_data]"
      ],
      "metadata": {
        "id": "_sRYFgyasz-g"
      },
      "execution_count": null,
      "outputs": []
    },
    {
      "cell_type": "code",
      "source": [
        "## Split F_H matrix\n",
        "F_H_S = split(F_H)\n",
        "train_input_F_H = F_H_S[0]\n",
        "valid_input_F_H = F_H_S[1]\n",
        "test_input_F_H = F_H_S[2]\n",
        "test_data_F_H = F_H_S[3]"
      ],
      "metadata": {
        "id": "82SQ9k2Es62S",
        "colab": {
          "base_uri": "https://localhost:8080/"
        },
        "outputId": "e995ae7a-f259-40b8-fc18-4a8ab2e80215"
      },
      "execution_count": null,
      "outputs": [
        {
          "output_type": "stream",
          "name": "stdout",
          "text": [
            "(200000, 5, 5) (25000, 5, 5) (25000, 5, 5)\n"
          ]
        }
      ]
    },
    {
      "cell_type": "code",
      "source": [
        "## Split A_inv matrix\n",
        "A_inv_S = split(A_inv)\n",
        "train_input_A_inv = A_inv_S[0]\n",
        "valid_input_A_inv = A_inv_S[1]\n",
        "test_input_A_inv = A_inv_S[2]\n",
        "test_data_A_inv = A_inv_S[3]"
      ],
      "metadata": {
        "id": "zYDqkyj4hrvH",
        "colab": {
          "base_uri": "https://localhost:8080/"
        },
        "outputId": "43f87236-a74b-4965-d126-288929b0fb2e"
      },
      "execution_count": null,
      "outputs": [
        {
          "output_type": "stream",
          "name": "stdout",
          "text": [
            "(200000, 5, 5) (25000, 5, 5) (25000, 5, 5)\n"
          ]
        }
      ]
    },
    {
      "cell_type": "code",
      "source": [
        "## Split b vector\n",
        "b_S = split(b)\n",
        "train_input_b = b_S[0]\n",
        "valid_input_b = b_S[1]\n",
        "test_input_b = b_S[2]\n",
        "test_data_b = b_S[3]"
      ],
      "metadata": {
        "id": "0VFev8m6hure",
        "colab": {
          "base_uri": "https://localhost:8080/"
        },
        "outputId": "e11dc1ee-520e-40ed-fc4e-0eeadd994aa9"
      },
      "execution_count": null,
      "outputs": [
        {
          "output_type": "stream",
          "name": "stdout",
          "text": [
            "(200000, 5, 1) (25000, 5, 1) (25000, 5, 1)\n"
          ]
        }
      ]
    },
    {
      "cell_type": "code",
      "source": [
        "## Split X vector\n",
        "X_S = split(X)\n",
        "train_input_X = X_S[0]\n",
        "valid_input_X = X_S[1]\n",
        "test_input_X = X_S[2]\n",
        "test_data_X = X_S[3]"
      ],
      "metadata": {
        "id": "aHOqCgops5TZ",
        "colab": {
          "base_uri": "https://localhost:8080/"
        },
        "outputId": "17cc17c8-4eb1-48dc-8804-b3b2affc6d33"
      },
      "execution_count": null,
      "outputs": [
        {
          "output_type": "stream",
          "name": "stdout",
          "text": [
            "(200000, 5, 1) (25000, 5, 1) (25000, 5, 1)\n"
          ]
        }
      ]
    },
    {
      "cell_type": "code",
      "source": [
        "## Split beta vector\n",
        "beta_S = split(beta)\n",
        "train_input_beta = beta_S[0]\n",
        "valid_input_beta = beta_S[1]\n",
        "test_input_beta = beta_S[2]\n",
        "test_data_beta = beta_S[3]"
      ],
      "metadata": {
        "id": "7z4m623F17X6",
        "colab": {
          "base_uri": "https://localhost:8080/"
        },
        "outputId": "0d9c55dc-500f-4b84-859c-f84557024d5d"
      },
      "execution_count": null,
      "outputs": [
        {
          "output_type": "stream",
          "name": "stdout",
          "text": [
            "(200000, 5, 1) (25000, 5, 1) (25000, 5, 1)\n"
          ]
        }
      ]
    },
    {
      "cell_type": "code",
      "source": [
        "## Split p_hat vector\n",
        "p_hat_S = split(p_hat)\n",
        "train_input_p_hat = p_hat_S[0]\n",
        "valid_input_p_hat = p_hat_S[1]\n",
        "test_input_p_hat = p_hat_S[2]\n",
        "test_data_p_hat = p_hat_S[3]"
      ],
      "metadata": {
        "id": "vjStduzPwW-m",
        "colab": {
          "base_uri": "https://localhost:8080/"
        },
        "outputId": "552fdc1d-86d7-4f17-d8ea-91dd1bfed6ed"
      },
      "execution_count": null,
      "outputs": [
        {
          "output_type": "stream",
          "name": "stdout",
          "text": [
            "(200000, 5, 1) (25000, 5, 1) (25000, 5, 1)\n"
          ]
        }
      ]
    },
    {
      "cell_type": "code",
      "source": [
        "## Define the DNN model - The Functional API\n",
        "import tensorflow as tf\n",
        "from tensorflow import keras\n",
        "## from tensorflow.keras import layers # shows warning\n",
        "from keras.api._v2.keras import layers\n",
        "from keras.layers import Input, Lambda\n",
        "from keras.models import Model\n",
        "\n",
        "\n",
        "hij_inputs = keras.Input(shape=(K,K), name = \"hij_inputs\")\n",
        "f1 = layers.Flatten(name = \"flatten_layer_hij\")(hij_inputs)\n",
        "\n",
        "d1 = layers.Dense(2*K*K, activation=\"relu\", name = \"dense_layer_1\")(f1)\n",
        "b1 = layers.BatchNormalization(name = \"batch_norm_layer_1\")(d1)\n",
        "\n",
        "d2 = layers.Dense(K*K, activation=\"relu\", name = \"dense_layer_2\")(b1)\n",
        "b2 = layers.BatchNormalization(name = \"batch_norm_layer_2\")(d2)\n",
        "\n",
        "# meu = layers.Dense(K, activation=\"relu\", name = \"meu\")(b2)\n",
        "meu = layers.Dense(K, activation=\"sigmoid\", name = \"meu\")(b2)\n",
        "\n",
        "A_inv_inputs = keras.Input(shape=(K,K), name = \"A_inv_inputs\")\n",
        "f2 = layers.Flatten(name = \"flatten_layer_A_inv\")(A_inv_inputs)\n",
        "\n",
        "X_inputs = keras.Input(shape=(K,1), name = \"X_inputs\")\n",
        "f3 = layers.Flatten(name = \"flatten_layer_X\")(X_inputs)\n",
        "\n",
        "beta_inputs = keras.Input(shape=(K,1), name = \"beta_inputs\")\n",
        "f4 = layers.Flatten(name = \"flatten_layer_beta\")(beta_inputs)\n",
        "\n",
        "p_hat_inputs = keras.Input(shape=(K,1), name = \"p_hat_inputs\")\n",
        "f5 = layers.Flatten(name = \"flatten_layer_p_hat\")(p_hat_inputs)\n",
        "\n",
        "def custom_layer(tensor):\n",
        "  t_A_inv = tensor[0]\n",
        "  t_X = tensor[1]\n",
        "  t_beta = tensor[2]\n",
        "  t_p_hat = tensor[3]\n",
        "  t_meu = tensor[4]\n",
        "\n",
        "  A_inv_cl = tf.reshape(t_A_inv[:,0:K*K], (-1,K,K))\n",
        "  X_cl = tf.reshape(t_X[:,0:K*1], (-1,K,1))\n",
        "  beta_cl = tf.reshape(t_beta[:,0:K*1], (-1,K,1))\n",
        "  p_hat_cl = tf.reshape(t_p_hat[:,0:K*1], (-1,K,1))\n",
        "  meu_cl = tf.reshape(t_meu[:,0:K*1], (-1,K,1))\n",
        "\n",
        "  meu_ewm = tf.math.multiply(beta_cl, meu_cl)\n",
        "\n",
        "  alpha_dnumr = tf.matmul(A_inv_cl, meu_ewm)\n",
        "  alpha_whole = tf.divide(X_cl, alpha_dnumr)\n",
        "  alpha = tf.reduce_min(alpha_whole, axis = 1, keepdims = True)\n",
        "  max_p = tf.constant([1.0])\n",
        "  alpha = tf.math.minimum(max_p, alpha)\n",
        "  meu_P = tf.multiply(meu_ewm, alpha)\n",
        "\n",
        "  Z_cl = tf.matmul(A_inv_cl, meu_P)\n",
        "  P_hat_cl = tf.add(p_hat_cl, Z_cl)\n",
        "  P_hat_cl_Norm = tf.math.divide(P_hat_cl, tf.reduce_max(P_hat_cl, axis = 1, keepdims = True))\n",
        "\n",
        "  # return P_hat_cl\n",
        "  return P_hat_cl_Norm\n",
        "\n",
        "lambda_layer = tf.keras.layers.Lambda(custom_layer, name=\"lambda_layer\")([f2, f3, f4, f5, meu])\n",
        "f6 = layers.Flatten(name = \"flatten_layer_output\")(lambda_layer)\n",
        "\n",
        "model = keras.Model(inputs = [hij_inputs, A_inv_inputs, X_inputs, beta_inputs, p_hat_inputs], outputs = f6, name = \"functional_api\")\n",
        "model.summary()"
      ],
      "metadata": {
        "id": "EGjbOfESh0At",
        "colab": {
          "base_uri": "https://localhost:8080/"
        },
        "outputId": "74cdd3f4-43d5-4bf1-f3af-d4748cdced0d"
      },
      "execution_count": null,
      "outputs": [
        {
          "output_type": "stream",
          "name": "stdout",
          "text": [
            "Model: \"functional_api\"\n",
            "__________________________________________________________________________________________________\n",
            " Layer (type)                   Output Shape         Param #     Connected to                     \n",
            "==================================================================================================\n",
            " hij_inputs (InputLayer)        [(None, 5, 5)]       0           []                               \n",
            "                                                                                                  \n",
            " flatten_layer_hij (Flatten)    (None, 25)           0           ['hij_inputs[0][0]']             \n",
            "                                                                                                  \n",
            " dense_layer_1 (Dense)          (None, 50)           1300        ['flatten_layer_hij[0][0]']      \n",
            "                                                                                                  \n",
            " batch_norm_layer_1 (BatchNorma  (None, 50)          200         ['dense_layer_1[0][0]']          \n",
            " lization)                                                                                        \n",
            "                                                                                                  \n",
            " dense_layer_2 (Dense)          (None, 25)           1275        ['batch_norm_layer_1[0][0]']     \n",
            "                                                                                                  \n",
            " A_inv_inputs (InputLayer)      [(None, 5, 5)]       0           []                               \n",
            "                                                                                                  \n",
            " X_inputs (InputLayer)          [(None, 5, 1)]       0           []                               \n",
            "                                                                                                  \n",
            " beta_inputs (InputLayer)       [(None, 5, 1)]       0           []                               \n",
            "                                                                                                  \n",
            " p_hat_inputs (InputLayer)      [(None, 5, 1)]       0           []                               \n",
            "                                                                                                  \n",
            " batch_norm_layer_2 (BatchNorma  (None, 25)          100         ['dense_layer_2[0][0]']          \n",
            " lization)                                                                                        \n",
            "                                                                                                  \n",
            " flatten_layer_A_inv (Flatten)  (None, 25)           0           ['A_inv_inputs[0][0]']           \n",
            "                                                                                                  \n",
            " flatten_layer_X (Flatten)      (None, 5)            0           ['X_inputs[0][0]']               \n",
            "                                                                                                  \n",
            " flatten_layer_beta (Flatten)   (None, 5)            0           ['beta_inputs[0][0]']            \n",
            "                                                                                                  \n",
            " flatten_layer_p_hat (Flatten)  (None, 5)            0           ['p_hat_inputs[0][0]']           \n",
            "                                                                                                  \n",
            " meu (Dense)                    (None, 5)            130         ['batch_norm_layer_2[0][0]']     \n",
            "                                                                                                  \n",
            " lambda_layer (Lambda)          (None, 5, 1)         0           ['flatten_layer_A_inv[0][0]',    \n",
            "                                                                  'flatten_layer_X[0][0]',        \n",
            "                                                                  'flatten_layer_beta[0][0]',     \n",
            "                                                                  'flatten_layer_p_hat[0][0]',    \n",
            "                                                                  'meu[0][0]']                    \n",
            "                                                                                                  \n",
            " flatten_layer_output (Flatten)  (None, 5)           0           ['lambda_layer[0][0]']           \n",
            "                                                                                                  \n",
            "==================================================================================================\n",
            "Total params: 3,005\n",
            "Trainable params: 2,855\n",
            "Non-trainable params: 150\n",
            "__________________________________________________________________________________________________\n"
          ]
        }
      ]
    },
    {
      "cell_type": "code",
      "source": [
        "# ## Plot the model as a graph\n",
        "# keras.utils.plot_model(model, \"Functional_API_Model.png\")"
      ],
      "metadata": {
        "id": "FOA7BGUlti-M"
      },
      "execution_count": null,
      "outputs": []
    },
    {
      "cell_type": "code",
      "source": [
        "# ## Display the input and output shapes of each layer\n",
        "# keras.utils.plot_model(model, \"Functional_API_Model_with_shape_info.png\", show_shapes=True)"
      ],
      "metadata": {
        "id": "vWcXGiwttoGC"
      },
      "execution_count": null,
      "outputs": []
    },
    {
      "cell_type": "code",
      "source": [
        "## Convert sigma_sqr_noise from numpy array to tensor\n",
        "sigma_sqr_noise_t = tf.convert_to_tensor(sigma_sqr_noise, dtype = float)\n",
        "tf.print(sigma_sqr_noise_t)"
      ],
      "metadata": {
        "id": "j5V8r3SYAy_q",
        "colab": {
          "base_uri": "https://localhost:8080/"
        },
        "outputId": "5134b26e-d278-4344-dec8-ed750fac5701"
      },
      "execution_count": null,
      "outputs": [
        {
          "output_type": "stream",
          "name": "stdout",
          "text": [
            "[1 1 1 1 1]\n"
          ]
        }
      ]
    },
    {
      "cell_type": "code",
      "source": [
        "## The customized loss function\n",
        "\n",
        "def custom_loss(y_true, y_pred):\n",
        "  # p = y_pred\n",
        "  p = tf.math.multiply(p_max, y_pred)\n",
        "  hij = tf.reshape(y_true[:,0:K*K], (-1,K,K))\n",
        "  hij_abs_sqr = tf.math.square(tf.math.abs(hij))\n",
        "\n",
        "  R_P = 0.0\n",
        "  for i in range(K):  # Total rows\n",
        "    ph = 0.0\n",
        "    for j in range(K):  # Total columns\n",
        "      ph_j = tf.math.multiply(p[:,j], hij_abs_sqr[:,i,j])\n",
        "      ph = tf.math.add(ph, ph_j)\n",
        "\n",
        "    numr = tf.math.multiply(p[:,i], hij_abs_sqr[:,i,i])\n",
        "    dnumr = tf.math.add(sigma_sqr_noise_t[i], tf.math.subtract(ph, numr))\n",
        "    SINR_i = tf.math.divide(numr, dnumr)\n",
        "    R_P = tf.math.add(R_P, (tf.math.log(1 + SINR_i)/tf.math.log(2.0)))\n",
        "\n",
        "  loss = -R_P\n",
        "  loss = tf.reduce_mean(loss) # batch mean\n",
        "  return loss"
      ],
      "metadata": {
        "id": "eNwToz_dVG56"
      },
      "execution_count": null,
      "outputs": []
    },
    {
      "cell_type": "code",
      "source": [
        "## Build and compile the DNN model\n",
        "## Training and Testing\n",
        "import matplotlib.pyplot as plt\n",
        "\n",
        "optA = tf.keras.optimizers.Adam(learning_rate = 0.0001)\n",
        "model.compile(optimizer = optA, loss = custom_loss)\n",
        "\n",
        "train_input = [train_input_F_H, train_input_A_inv, train_input_X, train_input_beta, train_input_p_hat]\n",
        "valid_input = [valid_input_F_H, valid_input_A_inv, valid_input_X, valid_input_beta, valid_input_p_hat]\n",
        "\n",
        "history = model.fit(train_input, train_input_F_H, epochs = 50, validation_data = (valid_input, valid_input_F_H), batch_size = 1000)\n",
        "\n",
        "plt.plot(history.epoch, history.history['loss'], color = \"blue\", label = \"Training\")\n",
        "plt.plot(history.epoch, history.history['val_loss'], color=\"black\", label = \"Validation\")\n",
        "plt.xlabel(\"epochs\")\n",
        "plt.ylabel(\"loss\")\n",
        "plt.legend()\n",
        "plt.show()"
      ],
      "metadata": {
        "id": "VFP_5h2wt3ri",
        "colab": {
          "base_uri": "https://localhost:8080/",
          "height": 1000
        },
        "outputId": "a9dd8370-bd51-4b8b-88d8-0030b7b1abb1"
      },
      "execution_count": null,
      "outputs": [
        {
          "output_type": "stream",
          "name": "stdout",
          "text": [
            "Epoch 1/100\n",
            "200/200 [==============================] - 7s 15ms/step - loss: -3.3391 - val_loss: -3.3461\n",
            "Epoch 2/100\n",
            "200/200 [==============================] - 2s 8ms/step - loss: -3.3770 - val_loss: -3.3869\n",
            "Epoch 3/100\n",
            "200/200 [==============================] - 2s 8ms/step - loss: -3.4058 - val_loss: -3.4162\n",
            "Epoch 4/100\n",
            "200/200 [==============================] - 1s 7ms/step - loss: -3.4259 - val_loss: -3.4332\n",
            "Epoch 5/100\n",
            "200/200 [==============================] - 2s 8ms/step - loss: -3.4391 - val_loss: -3.4436\n",
            "Epoch 6/100\n",
            "200/200 [==============================] - 2s 8ms/step - loss: -3.4475 - val_loss: -3.4500\n",
            "Epoch 7/100\n",
            "200/200 [==============================] - 2s 8ms/step - loss: -3.4531 - val_loss: -3.4541\n",
            "Epoch 8/100\n",
            "200/200 [==============================] - 2s 11ms/step - loss: -3.4569 - val_loss: -3.4573\n",
            "Epoch 9/100\n",
            "200/200 [==============================] - 2s 9ms/step - loss: -3.4598 - val_loss: -3.4598\n",
            "Epoch 10/100\n",
            "200/200 [==============================] - 1s 7ms/step - loss: -3.4621 - val_loss: -3.4617\n",
            "Epoch 11/100\n",
            "200/200 [==============================] - 1s 7ms/step - loss: -3.4640 - val_loss: -3.4634\n",
            "Epoch 12/100\n",
            "200/200 [==============================] - 2s 9ms/step - loss: -3.4657 - val_loss: -3.4647\n",
            "Epoch 13/100\n",
            "200/200 [==============================] - 2s 11ms/step - loss: -3.4671 - val_loss: -3.4659\n",
            "Epoch 14/100\n",
            "200/200 [==============================] - 2s 8ms/step - loss: -3.4685 - val_loss: -3.4671\n",
            "Epoch 15/100\n",
            "200/200 [==============================] - 2s 10ms/step - loss: -3.4697 - val_loss: -3.4684\n",
            "Epoch 16/100\n",
            "200/200 [==============================] - 2s 10ms/step - loss: -3.4708 - val_loss: -3.4694\n",
            "Epoch 17/100\n",
            "200/200 [==============================] - 2s 10ms/step - loss: -3.4717 - val_loss: -3.4705\n",
            "Epoch 18/100\n",
            "200/200 [==============================] - 2s 8ms/step - loss: -3.4724 - val_loss: -3.4711\n",
            "Epoch 19/100\n",
            "200/200 [==============================] - 2s 8ms/step - loss: -3.4731 - val_loss: -3.4720\n",
            "Epoch 20/100\n",
            "200/200 [==============================] - 2s 8ms/step - loss: -3.4736 - val_loss: -3.4727\n",
            "Epoch 21/100\n",
            "200/200 [==============================] - 1s 7ms/step - loss: -3.4740 - val_loss: -3.4731\n",
            "Epoch 22/100\n",
            "200/200 [==============================] - 2s 8ms/step - loss: -3.4745 - val_loss: -3.4737\n",
            "Epoch 23/100\n",
            "200/200 [==============================] - 2s 12ms/step - loss: -3.4748 - val_loss: -3.4740\n",
            "Epoch 24/100\n",
            "200/200 [==============================] - 2s 8ms/step - loss: -3.4752 - val_loss: -3.4743\n",
            "Epoch 25/100\n",
            "200/200 [==============================] - 1s 7ms/step - loss: -3.4755 - val_loss: -3.4746\n",
            "Epoch 26/100\n",
            "200/200 [==============================] - 2s 8ms/step - loss: -3.4758 - val_loss: -3.4751\n",
            "Epoch 27/100\n",
            "200/200 [==============================] - 2s 8ms/step - loss: -3.4761 - val_loss: -3.4752\n",
            "Epoch 28/100\n",
            "200/200 [==============================] - 2s 8ms/step - loss: -3.4764 - val_loss: -3.4756\n",
            "Epoch 29/100\n",
            "200/200 [==============================] - 2s 8ms/step - loss: -3.4767 - val_loss: -3.4758\n",
            "Epoch 30/100\n",
            "200/200 [==============================] - 2s 10ms/step - loss: -3.4770 - val_loss: -3.4761\n",
            "Epoch 31/100\n",
            "200/200 [==============================] - 2s 10ms/step - loss: -3.4772 - val_loss: -3.4763\n",
            "Epoch 32/100\n",
            "200/200 [==============================] - 1s 7ms/step - loss: -3.4775 - val_loss: -3.4766\n",
            "Epoch 33/100\n",
            "200/200 [==============================] - 1s 7ms/step - loss: -3.4778 - val_loss: -3.4770\n",
            "Epoch 34/100\n",
            "200/200 [==============================] - 2s 8ms/step - loss: -3.4781 - val_loss: -3.4772\n",
            "Epoch 35/100\n",
            "200/200 [==============================] - 2s 8ms/step - loss: -3.4784 - val_loss: -3.4775\n",
            "Epoch 36/100\n",
            "200/200 [==============================] - 2s 8ms/step - loss: -3.4787 - val_loss: -3.4777\n",
            "Epoch 37/100\n",
            "200/200 [==============================] - 2s 8ms/step - loss: -3.4790 - val_loss: -3.4781\n",
            "Epoch 38/100\n",
            "200/200 [==============================] - 2s 11ms/step - loss: -3.4793 - val_loss: -3.4783\n",
            "Epoch 39/100\n",
            "200/200 [==============================] - 2s 9ms/step - loss: -3.4795 - val_loss: -3.4786\n",
            "Epoch 40/100\n",
            "200/200 [==============================] - 2s 8ms/step - loss: -3.4798 - val_loss: -3.4786\n",
            "Epoch 41/100\n",
            "200/200 [==============================] - 2s 8ms/step - loss: -3.4800 - val_loss: -3.4790\n",
            "Epoch 42/100\n",
            "200/200 [==============================] - 2s 8ms/step - loss: -3.4803 - val_loss: -3.4793\n",
            "Epoch 43/100\n",
            "200/200 [==============================] - 2s 8ms/step - loss: -3.4804 - val_loss: -3.4794\n",
            "Epoch 44/100\n",
            "200/200 [==============================] - 1s 7ms/step - loss: -3.4807 - val_loss: -3.4796\n",
            "Epoch 45/100\n",
            "200/200 [==============================] - 2s 8ms/step - loss: -3.4809 - val_loss: -3.4798\n",
            "Epoch 46/100\n",
            "200/200 [==============================] - 2s 11ms/step - loss: -3.4811 - val_loss: -3.4801\n",
            "Epoch 47/100\n",
            "200/200 [==============================] - 2s 8ms/step - loss: -3.4813 - val_loss: -3.4803\n",
            "Epoch 48/100\n",
            "200/200 [==============================] - 1s 7ms/step - loss: -3.4815 - val_loss: -3.4805\n",
            "Epoch 49/100\n",
            "200/200 [==============================] - 1s 7ms/step - loss: -3.4817 - val_loss: -3.4806\n",
            "Epoch 50/100\n",
            "200/200 [==============================] - 1s 7ms/step - loss: -3.4819 - val_loss: -3.4808\n",
            "Epoch 51/100\n",
            "200/200 [==============================] - 1s 7ms/step - loss: -3.4821 - val_loss: -3.4811\n",
            "Epoch 52/100\n",
            "200/200 [==============================] - 1s 7ms/step - loss: -3.4823 - val_loss: -3.4813\n",
            "Epoch 53/100\n",
            "200/200 [==============================] - 2s 8ms/step - loss: -3.4825 - val_loss: -3.4815\n",
            "Epoch 54/100\n",
            "200/200 [==============================] - 2s 11ms/step - loss: -3.4827 - val_loss: -3.4816\n",
            "Epoch 55/100\n",
            "200/200 [==============================] - 2s 8ms/step - loss: -3.4829 - val_loss: -3.4818\n",
            "Epoch 56/100\n",
            "200/200 [==============================] - 2s 8ms/step - loss: -3.4831 - val_loss: -3.4818\n",
            "Epoch 57/100\n",
            "200/200 [==============================] - 1s 7ms/step - loss: -3.4833 - val_loss: -3.4821\n",
            "Epoch 58/100\n",
            "200/200 [==============================] - 2s 8ms/step - loss: -3.4834 - val_loss: -3.4821\n",
            "Epoch 59/100\n",
            "200/200 [==============================] - 2s 8ms/step - loss: -3.4836 - val_loss: -3.4823\n",
            "Epoch 60/100\n",
            "200/200 [==============================] - 2s 8ms/step - loss: -3.4837 - val_loss: -3.4826\n",
            "Epoch 61/100\n",
            "200/200 [==============================] - 2s 10ms/step - loss: -3.4839 - val_loss: -3.4827\n",
            "Epoch 62/100\n",
            "200/200 [==============================] - 2s 11ms/step - loss: -3.4840 - val_loss: -3.4828\n",
            "Epoch 63/100\n",
            "200/200 [==============================] - 2s 8ms/step - loss: -3.4841 - val_loss: -3.4830\n",
            "Epoch 64/100\n",
            "200/200 [==============================] - 2s 8ms/step - loss: -3.4843 - val_loss: -3.4831\n",
            "Epoch 65/100\n",
            "200/200 [==============================] - 2s 8ms/step - loss: -3.4844 - val_loss: -3.4832\n",
            "Epoch 66/100\n",
            "200/200 [==============================] - 2s 8ms/step - loss: -3.4845 - val_loss: -3.4832\n",
            "Epoch 67/100\n",
            "200/200 [==============================] - 2s 8ms/step - loss: -3.4846 - val_loss: -3.4834\n",
            "Epoch 68/100\n",
            "200/200 [==============================] - 2s 8ms/step - loss: -3.4847 - val_loss: -3.4835\n",
            "Epoch 69/100\n",
            "200/200 [==============================] - 2s 11ms/step - loss: -3.4848 - val_loss: -3.4836\n",
            "Epoch 70/100\n",
            "200/200 [==============================] - 2s 9ms/step - loss: -3.4849 - val_loss: -3.4837\n",
            "Epoch 71/100\n",
            "200/200 [==============================] - 2s 8ms/step - loss: -3.4850 - val_loss: -3.4838\n",
            "Epoch 72/100\n",
            "200/200 [==============================] - 2s 8ms/step - loss: -3.4851 - val_loss: -3.4839\n",
            "Epoch 73/100\n",
            "200/200 [==============================] - 2s 8ms/step - loss: -3.4852 - val_loss: -3.4840\n",
            "Epoch 74/100\n",
            "200/200 [==============================] - 2s 8ms/step - loss: -3.4853 - val_loss: -3.4841\n",
            "Epoch 75/100\n",
            "200/200 [==============================] - 2s 8ms/step - loss: -3.4853 - val_loss: -3.4842\n",
            "Epoch 76/100\n",
            "200/200 [==============================] - 2s 8ms/step - loss: -3.4855 - val_loss: -3.4842\n",
            "Epoch 77/100\n",
            "200/200 [==============================] - 2s 11ms/step - loss: -3.4855 - val_loss: -3.4843\n",
            "Epoch 78/100\n",
            "200/200 [==============================] - 2s 8ms/step - loss: -3.4856 - val_loss: -3.4844\n",
            "Epoch 79/100\n",
            "200/200 [==============================] - 2s 8ms/step - loss: -3.4857 - val_loss: -3.4845\n",
            "Epoch 80/100\n",
            "200/200 [==============================] - 2s 8ms/step - loss: -3.4858 - val_loss: -3.4846\n",
            "Epoch 81/100\n",
            "200/200 [==============================] - 2s 8ms/step - loss: -3.4858 - val_loss: -3.4847\n",
            "Epoch 82/100\n",
            "200/200 [==============================] - 2s 8ms/step - loss: -3.4859 - val_loss: -3.4847\n",
            "Epoch 83/100\n",
            "200/200 [==============================] - 2s 8ms/step - loss: -3.4860 - val_loss: -3.4846\n",
            "Epoch 84/100\n",
            "200/200 [==============================] - 2s 10ms/step - loss: -3.4861 - val_loss: -3.4849\n",
            "Epoch 85/100\n",
            "200/200 [==============================] - 2s 10ms/step - loss: -3.4861 - val_loss: -3.4849\n",
            "Epoch 86/100\n",
            "200/200 [==============================] - 2s 8ms/step - loss: -3.4862 - val_loss: -3.4849\n",
            "Epoch 87/100\n",
            "200/200 [==============================] - 2s 11ms/step - loss: -3.4862 - val_loss: -3.4850\n",
            "Epoch 88/100\n",
            "200/200 [==============================] - 2s 9ms/step - loss: -3.4863 - val_loss: -3.4851\n",
            "Epoch 89/100\n",
            "200/200 [==============================] - 2s 8ms/step - loss: -3.4863 - val_loss: -3.4851\n",
            "Epoch 90/100\n",
            "200/200 [==============================] - 2s 8ms/step - loss: -3.4865 - val_loss: -3.4853\n",
            "Epoch 91/100\n",
            "200/200 [==============================] - 2s 10ms/step - loss: -3.4865 - val_loss: -3.4853\n",
            "Epoch 92/100\n",
            "200/200 [==============================] - 2s 10ms/step - loss: -3.4866 - val_loss: -3.4854\n",
            "Epoch 93/100\n",
            "200/200 [==============================] - 1s 7ms/step - loss: -3.4866 - val_loss: -3.4854\n",
            "Epoch 94/100\n",
            "200/200 [==============================] - 2s 8ms/step - loss: -3.4867 - val_loss: -3.4854\n",
            "Epoch 95/100\n",
            "200/200 [==============================] - 2s 8ms/step - loss: -3.4867 - val_loss: -3.4855\n",
            "Epoch 96/100\n",
            "200/200 [==============================] - 2s 8ms/step - loss: -3.4868 - val_loss: -3.4855\n",
            "Epoch 97/100\n",
            "200/200 [==============================] - 2s 8ms/step - loss: -3.4868 - val_loss: -3.4856\n",
            "Epoch 98/100\n",
            "200/200 [==============================] - 2s 8ms/step - loss: -3.4869 - val_loss: -3.4857\n",
            "Epoch 99/100\n",
            "200/200 [==============================] - 2s 11ms/step - loss: -3.4869 - val_loss: -3.4857\n",
            "Epoch 100/100\n",
            "200/200 [==============================] - 2s 9ms/step - loss: -3.4870 - val_loss: -3.4857\n"
          ]
        },
        {
          "output_type": "display_data",
          "data": {
            "text/plain": [
              "<Figure size 640x480 with 1 Axes>"
            ],
            "image/png": "[encoded data removed]"
          },
          "metadata": {}
        }
      ]
    },
    {
      "cell_type": "code",
      "source": [
        "## Constraint violation probability and\n",
        "## finding indexes of test_input_F_H matrix with the hij set that do not satisfy\n",
        "## constraint on the minimum SINR_P_min rate but satisfy the maximum transmit\n",
        "## power p_max\n",
        "\n",
        "test_input = [test_input_F_H, test_input_A_inv, test_input_X, test_input_beta, test_input_p_hat]\n",
        "# output_P_hat_temp = model.predict(test_input)\n",
        "output_P_hat_temp = np.multiply(p_max, model.predict(test_input))\n",
        "output_P_hat = output_P_hat_temp.reshape((output_P_hat_temp.shape[0], output_P_hat_temp.shape[1], 1)) # test_input_F_H_size X row X column\n",
        "output_P_hat_size = output_P_hat.shape[0]\n",
        "test_data_F_H_abs_sqr = cmplx_abs_sqr(test_data_F_H)\n",
        "\n",
        "indx_n = []\n",
        "count_v = 0\n",
        "\n",
        "for k in range(output_P_hat_size):\n",
        "  for i in range(K):  # Total rows\n",
        "    ph = 0\n",
        "    for j in range(K):  # Total columns\n",
        "      ph_j = np.multiply(output_P_hat[k,j], test_data_F_H_abs_sqr[k,i,j])\n",
        "      ph = ph + ph_j\n",
        "\n",
        "    numr = np.multiply(output_P_hat[k,i], test_data_F_H_abs_sqr[k,i,i])\n",
        "    dnumr = sigma_sqr_noise[i] + ph - numr\n",
        "    SINR_out = np.divide(numr, dnumr)\n",
        "\n",
        "    if np.round(SINR_out, decimals= 3) < SINR_P_min[i]:\n",
        "      indx_n.append(k)\n",
        "      count_v = count_v + 1\n",
        "      # print(SINR_out)\n",
        "      break\n",
        "\n",
        "violation_prb = (count_v / output_P_hat_size) * 100\n",
        "print(\"Constraints Violation Probability: {:.2f}%\".format(violation_prb))\n",
        "# print(len(indx_n))\n",
        "# print(indx_n)"
      ],
      "metadata": {
        "id": "TppB89ypt7gC",
        "colab": {
          "base_uri": "https://localhost:8080/"
        },
        "outputId": "e7634d55-d57a-4673-ae78-90546638b2ba"
      },
      "execution_count": null,
      "outputs": [
        {
          "output_type": "stream",
          "name": "stdout",
          "text": [
            "782/782 [==============================] - 2s 2ms/step\n",
            "Constraints Violation Probability: 0.00%\n"
          ]
        }
      ]
    },
    {
      "cell_type": "code",
      "source": [
        "## Function to calculate the average sum rate\n",
        "# Here, p_model is the output of DNN, and it is a 2D array.\n",
        "import math\n",
        "\n",
        "def average_sum_rate(hij, p_model, sigma_sqr_noise, K):\n",
        "  R = 0\n",
        "  hij_size = hij.shape[0]\n",
        "  hij_abs_sqr = cmplx_abs_sqr(hij)\n",
        "\n",
        "  for k in range(hij_size):\n",
        "    for i in range(K):  # Total rows\n",
        "      phn = 0\n",
        "      for j in range(K):  # Total columns\n",
        "        phn_j = np.multiply(p_model[k,j], hij_abs_sqr[k,i,j])\n",
        "        phn = phn + phn_j\n",
        "\n",
        "      numr_s = np.multiply(p_model[k,i], hij_abs_sqr[k,i,i])\n",
        "      dnumr_s = sigma_sqr_noise[i] + phn - numr_s\n",
        "      R_temp = math.log2(1 + np.divide(numr_s, dnumr_s))\n",
        "      R = R + R_temp\n",
        "\n",
        "  return (R/hij_size)"
      ],
      "metadata": {
        "id": "Sj6wlXCWuAgS"
      },
      "execution_count": null,
      "outputs": []
    },
    {
      "cell_type": "code",
      "source": [
        "# DNN Sum Rate for test_data_F_H\n",
        "sumrate_F_H = average_sum_rate(test_data_F_H, output_P_hat, sigma_sqr_noise, K)\n",
        "print(\"Average Sum Rate for all H matrices: {:.3f} Bit/Second/Hertz\".format(sumrate_F_H))"
      ],
      "metadata": {
        "id": "uRAZY_RBuCI-",
        "colab": {
          "base_uri": "https://localhost:8080/"
        },
        "outputId": "64000ec7-57be-4d77-fb73-028eaf0b346f"
      },
      "execution_count": null,
      "outputs": [
        {
          "output_type": "stream",
          "name": "stdout",
          "text": [
            "Average Sum Rate for all H matrices: 3.489 Bit/Second/Hertz\n"
          ]
        }
      ]
    },
    {
      "cell_type": "code",
      "source": [
        "## Checking (A_inv x b), i.e., the power for negative values\n",
        "count_n = 0\n",
        "for c in range(output_P_hat_size):\n",
        "  p_temp = np.matmul(test_input_A_inv[c], test_input_b[c])\n",
        "  if np.any(p_temp < 0):\n",
        "    count_n = count_n + 1\n",
        "    print(c,'\\n')\n",
        "    print(p_temp)\n",
        "\n",
        "print(count_n)"
      ],
      "metadata": {
        "id": "G1JAw6fKjw5u",
        "colab": {
          "base_uri": "https://localhost:8080/"
        },
        "outputId": "339366ff-4671-4057-cca6-b2891342a355"
      },
      "execution_count": null,
      "outputs": [
        {
          "output_type": "stream",
          "name": "stdout",
          "text": [
            "0\n"
          ]
        }
      ]
    },
    {
      "cell_type": "code",
      "source": [
        "## Checking P_hat, i.e., the power for test_data_F_H for negative values\n",
        "## and Hit Rate i.e. percentage for 0 <= P_hat <= p_max\n",
        "count_p = 0\n",
        "count_n = 0\n",
        "\n",
        "for n in range(output_P_hat_size):\n",
        "  P_max = np.amax(output_P_hat[n])\n",
        "  if np.round(P_max, decimals = 3) <= 1:\n",
        "    count_p = count_p + 1\n",
        "\n",
        "  if np.any(output_P_hat[n] < 0):\n",
        "    count_n = count_n + 1\n",
        "    print(n,'\\n')\n",
        "    print(output_P_hat)\n",
        "\n",
        "p_hit_rate = (count_p / output_P_hat_size) * 100\n",
        "print(\"Htt Rate for Power : {:.2f}%\".format(p_hit_rate))\n",
        "print(\"Negative power count: \", count_n)"
      ],
      "metadata": {
        "id": "BHZkmotV2NTz",
        "colab": {
          "base_uri": "https://localhost:8080/"
        },
        "outputId": "e890b3fe-dafd-4edc-8e81-6fe5e6773c23"
      },
      "execution_count": null,
      "outputs": [
        {
          "output_type": "stream",
          "name": "stdout",
          "text": [
            "Htt Rate for Power : 100.00%\n",
            "Negative power count:  0\n"
          ]
        }
      ]
    }
  ]
}